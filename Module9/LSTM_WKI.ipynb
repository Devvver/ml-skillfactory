{
 "cells": [
  {
   "cell_type": "code",
   "execution_count": null,
   "metadata": {},
   "outputs": [],
   "source": [
    "import pandas as pd\n",
    "import nltk\n",
    "from collections import defaultdict\n",
    "import random\n",
    "import numpy as np\n",
    "from sklearn.model_selection import train_test_split\n",
    "from IPython.core.display import display, Image\n"
   ]
  },
  {
   "cell_type": "code",
   "execution_count": null,
   "metadata": {},
   "outputs": [],
   "source": [
    "df = pd.read_csv(\"wiki_data.csv\", index_col='title')\n",
    "df.head()"
   ]
  },
  {
   "cell_type": "code",
   "execution_count": null,
   "metadata": {
    "scrolled": true
   },
   "outputs": [],
   "source": [
    "df.loc[\"Тензорный анализ\"][\"text\"]"
   ]
  },
  {
   "cell_type": "code",
   "execution_count": null,
   "metadata": {},
   "outputs": [],
   "source": [
    "df[\"target\"] = df.category.apply(lambda x: int(x ==  \"Математика\"))\n",
    "del(df[\"category\"])\n"
   ]
  },
  {
   "cell_type": "code",
   "execution_count": null,
   "metadata": {},
   "outputs": [],
   "source": [
    "df.head(20)"
   ]
  },
  {
   "cell_type": "code",
   "execution_count": null,
   "metadata": {},
   "outputs": [],
   "source": [
    "tokenizer = nltk.RegexpTokenizer(r\"[a-zа-яё]+\")\n",
    "\n",
    "def text2tokens(text, num=10):\n",
    "    tokens = tokenizer.tokenize(text.lower())\n",
    "    if len(tokens) > num:\n",
    "        return tokens[:num]\n",
    "    else:\n",
    "        return ['#'] * (num - len(tokens)) +  tokens"
   ]
  },
  {
   "cell_type": "code",
   "execution_count": null,
   "metadata": {},
   "outputs": [],
   "source": [
    "text2tokens('мама мыла раму')"
   ]
  },
  {
   "cell_type": "code",
   "execution_count": null,
   "metadata": {},
   "outputs": [],
   "source": [
    "text2tokens(df.loc[\"Тензорный анализ\"][\"text\"])"
   ]
  },
  {
   "cell_type": "code",
   "execution_count": null,
   "metadata": {},
   "outputs": [],
   "source": [
    "token_ids = defaultdict(lambda: len(token_ids))\n",
    "\n",
    "def text2tokenIds(text, num=10):\n",
    "    tokens = text2tokens(text, num)\n",
    "    result = []\n",
    "    for token in tokens:\n",
    "        result.append(token_ids[token])\n",
    "    return np.array(result)"
   ]
  },
  {
   "cell_type": "code",
   "execution_count": null,
   "metadata": {},
   "outputs": [],
   "source": [
    "text2tokenIds('мама мыла раму')"
   ]
  },
  {
   "cell_type": "code",
   "execution_count": null,
   "metadata": {},
   "outputs": [],
   "source": [
    "text2tokenIds(df.loc[\"Тензорный анализ\"][\"text\"], 10)"
   ]
  },
  {
   "cell_type": "code",
   "execution_count": null,
   "metadata": {},
   "outputs": [],
   "source": [
    "max_len = 200\n",
    "data = list(df.text.apply(lambda text: text2tokenIds(text, max_len)))  \n",
    "X = pd.DataFrame(data, index = df.index)\n",
    "y = df.target\n",
    "\n",
    "max_features = len(token_ids)"
   ]
  },
  {
   "cell_type": "code",
   "execution_count": null,
   "metadata": {},
   "outputs": [],
   "source": [
    "X"
   ]
  },
  {
   "cell_type": "code",
   "execution_count": null,
   "metadata": {},
   "outputs": [],
   "source": [
    "display(Image(\"lstm.png\"))"
   ]
  },
  {
   "cell_type": "code",
   "execution_count": null,
   "metadata": {},
   "outputs": [],
   "source": [
    "X_train, X_test, y_train, y_test = train_test_split(X, y, random_state=96622)"
   ]
  },
  {
   "cell_type": "code",
   "execution_count": null,
   "metadata": {},
   "outputs": [],
   "source": [
    "from tensorflow.keras.preprocessing import sequence\n",
    "from tensorflow.keras.models import Sequential\n",
    "from tensorflow.keras.layers import Dense, Dropout, Activation\n",
    "from tensorflow.keras.layers import Embedding\n",
    "from tensorflow.keras.layers import LSTM\n",
    "\n",
    "evaluate_samples = 1000\n",
    "attempt = 0\n",
    "lstm_hidden_vars = 16\n",
    "embedding_size = 32\n",
    "\n",
    "\n",
    "model = Sequential()\n",
    "model.add(Embedding(max_features, embedding_size, input_length=max_len))\n",
    "model.add(LSTM(lstm_hidden_vars, return_sequences=True))\n",
    "model.add(LSTM(lstm_hidden_vars))\n",
    "\n",
    "model.add(Dropout(0.5))\n",
    "model.add(Dense(1, activation=\"sigmoid\"))\n",
    "\n",
    "\n",
    "model.compile(loss='binary_crossentropy',\n",
    "                  optimizer='adam', metrics=['accuracy'])\n",
    "\n"
   ]
  },
  {
   "cell_type": "code",
   "execution_count": null,
   "metadata": {},
   "outputs": [],
   "source": [
    "batch_size  = 256\n",
    "epochs = 10\n",
    "\n",
    "model.fit(\n",
    "    X_train.values, y_train.values, \n",
    "    batch_size=batch_size, \n",
    "    validation_data=(X_test.values, y_test.values),\n",
    "    epochs=epochs\n",
    ")\n"
   ]
  },
  {
   "cell_type": "code",
   "execution_count": 111,
   "metadata": {},
   "outputs": [],
   "source": [
    "def get_text_topics(text):\n",
    "    tokens = text2tokenIds(text, max_len).reshape(1, max_len)\n",
    "    math_prob = model.predict(tokens)\n",
    "    chem_prob = 1 - math_prob\n",
    "    \n",
    "    return {\"Математика\": math_prob, \"Химия\": chem_prob}"
   ]
  },
  {
   "cell_type": "code",
   "execution_count": 112,
   "metadata": {},
   "outputs": [
    {
     "data": {
      "text/plain": [
       "{'Математика': array([[0.99309856]], dtype=float32),\n",
       " 'Химия': array([[0.00690144]], dtype=float32)}"
      ]
     },
     "execution_count": 112,
     "metadata": {},
     "output_type": "execute_result"
    }
   ],
   "source": [
    "text = \"\"\"\n",
    "Матема́тика (др.-греч. μᾰθημᾰτικά[1] < μάθημα «изучение; наука») \n",
    "— наука о структурах, порядке и отношениях, исторически сложившаяся на основе операций подсчёта, \n",
    "измерения и описания формы объектов[2]. \n",
    "Математические объекты создаются путём идеализации свойств реальных или других математических \n",
    "объектов и записи этих свойств на формальном языке. Математика не относится к естественным наукам, \n",
    "но широко используется в них как для точной формулировки их содержания, так и для получения новых результатов.\n",
    "Математика — фундаментальная наука, предоставляющая (общие) языковые средства другим наукам;\n",
    "тем самым она выявляет их структурную взаимосвязь и способствует нахождению самых общих законов природы[3].\n",
    "\"\"\"\n",
    "get_text_topics(text.lower())"
   ]
  },
  {
   "cell_type": "code",
   "execution_count": 115,
   "metadata": {},
   "outputs": [],
   "source": [
    "text=\"\"\"\n",
    "я люблю химию\"\"\""
   ]
  },
  {
   "cell_type": "code",
   "execution_count": 116,
   "metadata": {},
   "outputs": [
    {
     "data": {
      "text/plain": [
       "{'Математика': array([[0.991339]], dtype=float32),\n",
       " 'Химия': array([[0.00866097]], dtype=float32)}"
      ]
     },
     "execution_count": 116,
     "metadata": {},
     "output_type": "execute_result"
    }
   ],
   "source": [
    "get_text_topics(text.lower())"
   ]
  },
  {
   "cell_type": "markdown",
   "metadata": {},
   "source": [
    "##### Ссылки для продлождения изучения\n",
    "\n",
    "1. Генерация текстов https://www.tensorflow.org/tutorials/sequences/text_generation\n",
    "1. Генерация изображений https://machinelearningmastery.com/how-to-caption-photos-with-deep-learning/\n",
    "1. Машинный перевод https://medium.com/@umerfarooq_26378/neural-machine-translation-with-code-68c425044bbd\n",
    "1. Распознавание речи https://zhuanlan.zhihu.com/p/28274740\n",
    "1. Рекомендательная система https://towardsdatascience.com/introduction-to-recommender-system-part-2-adoption-of-neural-network-831972c4cbf7"
   ]
  },
  {
   "cell_type": "code",
   "execution_count": null,
   "metadata": {},
   "outputs": [],
   "source": []
  }
 ],
 "metadata": {
  "kernelspec": {
   "display_name": "Python 3",
   "language": "python",
   "name": "python3"
  },
  "language_info": {
   "codemirror_mode": {
    "name": "ipython",
    "version": 3
   },
   "file_extension": ".py",
   "mimetype": "text/x-python",
   "name": "python",
   "nbconvert_exporter": "python",
   "pygments_lexer": "ipython3",
   "version": "3.6.8"
  }
 },
 "nbformat": 4,
 "nbformat_minor": 2
}
