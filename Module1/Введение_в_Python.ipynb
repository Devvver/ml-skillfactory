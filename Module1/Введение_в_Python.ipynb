{
 "cells": [
  {
   "cell_type": "markdown",
   "metadata": {
    "colab_type": "text",
    "id": "clMIeVM502sv"
   },
   "source": [
    "# Введение в язык программирования Python"
   ]
  },
  {
   "cell_type": "markdown",
   "metadata": {
    "colab_type": "text",
    "id": "e924eP0A02sy"
   },
   "source": [
    "Это ноутбук будет посвящен введению в язык программирования Python. Будет много упражнений, которые позволят вам понять основы программирования, и начать писать работающий код своими руками. Прикладной анализ данных и написание кода - неотделимые сущности. Поехали!"
   ]
  },
  {
   "cell_type": "markdown",
   "metadata": {
    "colab_type": "text",
    "id": "W_Xj8cqt02s1"
   },
   "source": [
    "### Переменные. Комментарии. Базовые типы данных: число (int, float), строка, булевый тип"
   ]
  },
  {
   "cell_type": "markdown",
   "metadata": {
    "colab_type": "text",
    "id": "ZJIdWRsx02s7"
   },
   "source": [
    "С функцией print мы уже знакомы - она позволяет выводить произвольную строку на экран. Попробуем сами!"
   ]
  },
  {
   "cell_type": "code",
   "execution_count": 11,
   "metadata": {
    "colab": {},
    "colab_type": "code",
    "id": "6N9I8pSU02s_"
   },
   "outputs": [
    {
     "name": "stdout",
     "output_type": "stream",
     "text": [
      "Hello world!\n"
     ]
    }
   ],
   "source": [
    "print('Hello world!')"
   ]
  },
  {
   "cell_type": "markdown",
   "metadata": {
    "colab_type": "text",
    "id": "EkbaxGvq02tL"
   },
   "source": [
    "Код, который мы пишем, исполняется специальной программой - интерпретатором. В детали углубляться не будем, но важно понимать следующее: интерпретатор проверяет корректность программы: существование переменных, верность отступов (что очень важно для Python, но об этом позже). <br>\n",
    "Чтобы код было легче понимать, был придуман специальный способ, с помощью которого программисты могут делиться знаниями о том, как что-то работает прямиком в коде. Этот способ - комментарии. Это инструкция, которая игнорируется интерпретатором. <br>"
   ]
  },
  {
   "cell_type": "code",
   "execution_count": 12,
   "metadata": {
    "colab": {},
    "colab_type": "code",
    "id": "EiqSiCMf02tO"
   },
   "outputs": [],
   "source": [
    "# это однострочный комментарий, который игнорируется интерпретатором, здесь можно писать все что душе угодно!"
   ]
  },
  {
   "cell_type": "markdown",
   "metadata": {
    "colab_type": "text",
    "id": "8SDXTyIO02tV"
   },
   "source": [
    "То есть все, что написано после решетки - не будет считаться кодом, и будет просто хранится в файле. Комментарии очень важны, чтобы другие люди могли быстро разобраться в вашем коде, да и не только другие люди, а вы сами -- только, спустя время :)"
   ]
  },
  {
   "cell_type": "code",
   "execution_count": 13,
   "metadata": {
    "colab": {},
    "colab_type": "code",
    "id": "ismnthRX02tY"
   },
   "outputs": [
    {
     "data": {
      "text/plain": [
       "'\\nЭто многострочный комментарий. Обычно он используется для описания того,\\nкак работает какая-то функция, модуль, или сложный блок кода\\n'"
      ]
     },
     "execution_count": 13,
     "metadata": {},
     "output_type": "execute_result"
    }
   ],
   "source": [
    "\"\"\"\n",
    "Это многострочный комментарий. Обычно он используется для описания того,\n",
    "как работает какая-то функция, модуль, или сложный блок кода\n",
    "\"\"\""
   ]
  },
  {
   "cell_type": "code",
   "execution_count": 14,
   "metadata": {
    "colab": {},
    "colab_type": "code",
    "id": "GX-JNq3d02th"
   },
   "outputs": [
    {
     "name": "stdout",
     "output_type": "stream",
     "text": [
      "Дерево\n"
     ]
    }
   ],
   "source": [
    "# выведем на экран слово Дерево\n",
    "print('Дерево')"
   ]
  },
  {
   "cell_type": "markdown",
   "metadata": {
    "colab_type": "text",
    "id": "P7OKGgVQ02tr"
   },
   "source": [
    "#### Переменные\n",
    "Переменная - это некоторый блок в памяти компьютера, в который мы можем записать информацию. Информацию совсем разную - это могут быть целые и вещественные числа, строки, и другие более сложные структуры. <br>\n",
    "Чтобы создать переменную, необходимо для начала придумать ее название. Хорошим тоном считается называть переменные в честь сущности, которую они хранят. <br>\n",
    "Давайте создадим свою первую переменную, которая будет хранить возраст, который будет равен 27"
   ]
  },
  {
   "cell_type": "code",
   "execution_count": 15,
   "metadata": {
    "colab": {},
    "colab_type": "code",
    "id": "y3EG5Z0g02tu"
   },
   "outputs": [],
   "source": [
    "age = 27"
   ]
  },
  {
   "cell_type": "code",
   "execution_count": 16,
   "metadata": {
    "colab": {},
    "colab_type": "code",
    "id": "6hb-DEbc02t3"
   },
   "outputs": [
    {
     "name": "stdout",
     "output_type": "stream",
     "text": [
      "27\n"
     ]
    }
   ],
   "source": [
    "# выведем на экран значение переменной age\n",
    "print(age)"
   ]
  },
  {
   "cell_type": "markdown",
   "metadata": {
    "colab_type": "text",
    "id": "VCEWHvvm02uE"
   },
   "source": [
    "Заметим, что возраст является целым числом. Так же мы можем создавать переменные, которые хранят вещественные числа. Создадим переменную y:"
   ]
  },
  {
   "cell_type": "code",
   "execution_count": 17,
   "metadata": {
    "colab": {},
    "colab_type": "code",
    "id": "3mfU_TLA02uG"
   },
   "outputs": [],
   "source": [
    "y = 100.5"
   ]
  },
  {
   "cell_type": "markdown",
   "metadata": {
    "colab_type": "text",
    "id": "b2wKxMssUJpP"
   },
   "source": [
    "# **ЗАДАНИЕ**: выведите на экран значение переменной y с помощью функции print"
   ]
  },
  {
   "cell_type": "code",
   "execution_count": 0,
   "metadata": {
    "colab": {},
    "colab_type": "code",
    "id": "cMoDw3Xc02uS"
   },
   "outputs": [],
   "source": []
  },
  {
   "cell_type": "code",
   "execution_count": 0,
   "metadata": {
    "colab": {},
    "colab_type": "code",
    "id": "CRD0OfYn02ua"
   },
   "outputs": [],
   "source": [
    "string = 'this is my first string in python '"
   ]
  },
  {
   "cell_type": "markdown",
   "metadata": {
    "colab_type": "text",
    "id": "oorkUhgIUNj1"
   },
   "source": [
    "**ЗАДАНИЕ**: выведите на экран значение переменной string с помощью функции print"
   ]
  },
  {
   "cell_type": "code",
   "execution_count": 0,
   "metadata": {
    "colab": {},
    "colab_type": "code",
    "id": "mNGG_syB02uj"
   },
   "outputs": [],
   "source": []
  },
  {
   "cell_type": "code",
   "execution_count": 18,
   "metadata": {
    "colab": {},
    "colab_type": "code",
    "id": "6WDnYlc602un"
   },
   "outputs": [
    {
     "data": {
      "text/plain": [
       "28"
      ]
     },
     "execution_count": 18,
     "metadata": {},
     "output_type": "execute_result"
    }
   ],
   "source": [
    "age + 1"
   ]
  },
  {
   "cell_type": "code",
   "execution_count": 19,
   "metadata": {
    "colab": {},
    "colab_type": "code",
    "id": "qjtYnKij02ux"
   },
   "outputs": [
    {
     "data": {
      "text/plain": [
       "350.5"
      ]
     },
     "execution_count": 19,
     "metadata": {},
     "output_type": "execute_result"
    }
   ],
   "source": [
    "y + 250"
   ]
  },
  {
   "cell_type": "markdown",
   "metadata": {
    "colab_type": "text",
    "id": "7-z2ZFILR8Ys"
   },
   "source": [
    "**ЗАДАНИЕ**: сложите переменные age и y, результат скопируйте и вставьте в edx"
   ]
  },
  {
   "cell_type": "code",
   "execution_count": 20,
   "metadata": {
    "colab": {},
    "colab_type": "code",
    "id": "m9szsVM002vb"
   },
   "outputs": [
    {
     "name": "stdout",
     "output_type": "stream",
     "text": [
      "127.5\n"
     ]
    }
   ],
   "source": [
    "print(age + y)"
   ]
  },
  {
   "cell_type": "markdown",
   "metadata": {
    "colab_type": "text",
    "id": "VG_87ItSUVUP"
   },
   "source": [
    "**ЗАДАНИЕ**: задайте произвольное значение переменной my_string"
   ]
  },
  {
   "cell_type": "code",
   "execution_count": 21,
   "metadata": {
    "colab": {},
    "colab_type": "code",
    "id": "iYCkSr7e02vj"
   },
   "outputs": [],
   "source": [
    "my_string = ''"
   ]
  },
  {
   "cell_type": "code",
   "execution_count": 22,
   "metadata": {
    "colab": {},
    "colab_type": "code",
    "id": "6m_Xt0AD02vq"
   },
   "outputs": [
    {
     "name": "stdout",
     "output_type": "stream",
     "text": [
      "this is my first string in python \n"
     ]
    }
   ],
   "source": [
    "# да, строки тоже можно складывать\n",
    "print(string + my_string)"
   ]
  },
  {
   "cell_type": "code",
   "execution_count": 23,
   "metadata": {
    "colab": {},
    "colab_type": "code",
    "id": "25J6iVLA02v2"
   },
   "outputs": [
    {
     "ename": "TypeError",
     "evalue": "unsupported operand type(s) for -: 'str' and 'str'",
     "output_type": "error",
     "traceback": [
      "\u001b[0;31m---------------------------------------------------------------------------\u001b[0m",
      "\u001b[0;31mTypeError\u001b[0m                                 Traceback (most recent call last)",
      "\u001b[0;32m<ipython-input-23-fb908a074d9f>\u001b[0m in \u001b[0;36m<module>\u001b[0;34m\u001b[0m\n\u001b[1;32m      1\u001b[0m \u001b[0;31m# а вычитать нельзя - это будет ошибка TypeError\u001b[0m\u001b[0;34m\u001b[0m\u001b[0;34m\u001b[0m\u001b[0;34m\u001b[0m\u001b[0m\n\u001b[0;32m----> 2\u001b[0;31m \u001b[0mprint\u001b[0m\u001b[0;34m(\u001b[0m\u001b[0mstring\u001b[0m \u001b[0;34m-\u001b[0m \u001b[0mmy_string\u001b[0m\u001b[0;34m)\u001b[0m\u001b[0;34m\u001b[0m\u001b[0;34m\u001b[0m\u001b[0m\n\u001b[0m",
      "\u001b[0;31mTypeError\u001b[0m: unsupported operand type(s) for -: 'str' and 'str'"
     ]
    }
   ],
   "source": [
    "# а вычитать нельзя - это будет ошибка TypeError\n",
    "print(string - my_string)"
   ]
  },
  {
   "cell_type": "markdown",
   "metadata": {
    "colab_type": "text",
    "id": "Y9JO7Qu402wJ"
   },
   "source": [
    "В программировании важно не бояться ошибок. Они - часть пути, и чаще всего ошибки сами по себе являются хорошими подсказками по исправлению вашего кода. Например, в тексте ошибки выше явно сказано, что вычитание для двух строк не опредедено.<br>\n",
    "Двинемся дальше, и посмотрим, что необходимо делать, если нам нужно хранить несколько схожих сущностей!"
   ]
  },
  {
   "cell_type": "markdown",
   "metadata": {
    "colab_type": "text",
    "id": "YaFwSqa202wK"
   },
   "source": [
    "### Массивы, кортежи"
   ]
  },
  {
   "cell_type": "markdown",
   "metadata": {
    "colab_type": "text",
    "id": "9FVd_TT602wM"
   },
   "source": [
    "Предположим, что у нас есть недельные данные о температуре, которые мы хотим использовать в программе.<br>\n",
    "Первый подход, который может придти в голову для хранения температуры для каждого дня недели - завести отдельную переменную под каждый день:<br>"
   ]
  },
  {
   "cell_type": "code",
   "execution_count": 0,
   "metadata": {
    "colab": {},
    "colab_type": "code",
    "id": "8b4WyzDb02wN"
   },
   "outputs": [],
   "source": [
    "sunday_temperature = 12\n",
    "monday_temperature = 14\n",
    "tuesday_temperature = 15\n",
    "wednesday_temperature = 10\n",
    "# и так далее"
   ]
  },
  {
   "cell_type": "markdown",
   "metadata": {
    "colab_type": "text",
    "id": "6xT_E6LL02wR"
   },
   "source": [
    "Однако, что делать, если нам потребуются данные за месяц? За год? Подход с переменными в этом случае не очень удобный. Именно в этом случае к нам на помощь приходят массивы!\n",
    "<br>\n",
    "Массив - это сущность, которая позволяет хранить схожие объекты вместе. Например"
   ]
  },
  {
   "cell_type": "code",
   "execution_count": 0,
   "metadata": {
    "colab": {},
    "colab_type": "code",
    "id": "TtrO6oGh02wR"
   },
   "outputs": [],
   "source": [
    "temperatures = [12, 14, 15, 10]"
   ]
  },
  {
   "cell_type": "code",
   "execution_count": 0,
   "metadata": {
    "colab": {},
    "colab_type": "code",
    "id": "ywE0VONc02wd"
   },
   "outputs": [],
   "source": [
    "print(temperatures)"
   ]
  },
  {
   "cell_type": "markdown",
   "metadata": {
    "colab_type": "text",
    "id": "TI6JyvUk02ww"
   },
   "source": [
    "Обращаться к элементами массива довольно просто - нужно написать его название, и в квадратных скобках номер элемента, к которому вы хотите обратиться. <br> Важная деталь - программисты любят считать с 0, а не с 1, поэтому индекс первого элемента равен 0. Вот такая вот занимательная математика :)"
   ]
  },
  {
   "cell_type": "code",
   "execution_count": 0,
   "metadata": {
    "colab": {},
    "colab_type": "code",
    "id": "lgvEOn_M02wx"
   },
   "outputs": [],
   "source": [
    "temperatures[0]"
   ]
  },
  {
   "cell_type": "code",
   "execution_count": 0,
   "metadata": {
    "colab": {},
    "colab_type": "code",
    "id": "Zcwfh9a202w3"
   },
   "outputs": [],
   "source": [
    "temperatures[1]"
   ]
  },
  {
   "cell_type": "markdown",
   "metadata": {
    "colab_type": "text",
    "id": "9EtjBvOGUZQB"
   },
   "source": [
    "**ЗАДАНИЕ**: обратитесь к последнему элементу массива temperatures."
   ]
  },
  {
   "cell_type": "code",
   "execution_count": 0,
   "metadata": {
    "colab": {},
    "colab_type": "code",
    "id": "taVxSOu-02xH"
   },
   "outputs": [],
   "source": []
  },
  {
   "cell_type": "markdown",
   "metadata": {
    "colab_type": "text",
    "id": "lJk2PeOO02xK"
   },
   "source": [
    "Для работы с массивами в Python встроено несколько полезных функций:<br>\n",
    "sum(array) - эта функция считает сумму элементов массива<br>\n",
    "len(array) - эта функция вычисляет длину массива<br><br>\n",
    "Проверим их работу на массиве temperatures"
   ]
  },
  {
   "cell_type": "code",
   "execution_count": 0,
   "metadata": {
    "colab": {},
    "colab_type": "code",
    "id": "3540uJsA02xL"
   },
   "outputs": [],
   "source": [
    "sum(temperatures)"
   ]
  },
  {
   "cell_type": "code",
   "execution_count": 0,
   "metadata": {
    "colab": {},
    "colab_type": "code",
    "id": "WMK-sPaZ02xP"
   },
   "outputs": [],
   "source": [
    "len(temperatures)"
   ]
  },
  {
   "cell_type": "markdown",
   "metadata": {
    "colab_type": "text",
    "id": "u-o3xzb202xT"
   },
   "source": [
    "Еще есть полезные функции min(array) и max(array) - они найти посчитать минимальное и максимальное значение в массиве"
   ]
  },
  {
   "cell_type": "code",
   "execution_count": 0,
   "metadata": {
    "colab": {},
    "colab_type": "code",
    "id": "881eVoRN02xV"
   },
   "outputs": [],
   "source": [
    "max(temperatures)"
   ]
  },
  {
   "cell_type": "code",
   "execution_count": 0,
   "metadata": {
    "colab": {},
    "colab_type": "code",
    "id": "u6W3KCcD02xZ"
   },
   "outputs": [],
   "source": [
    "min(temperatures)"
   ]
  },
  {
   "cell_type": "markdown",
   "metadata": {
    "colab_type": "text",
    "id": "zLmM9ZpL02xh"
   },
   "source": [
    "**ЗАДАНИЕ:** создайте свой массив, который будет называться prices и будет содержать значения 13, 10, 25, 100, 10."
   ]
  },
  {
   "cell_type": "code",
   "execution_count": 0,
   "metadata": {
    "colab": {},
    "colab_type": "code",
    "id": "3iY0xgZV02xm"
   },
   "outputs": [],
   "source": []
  },
  {
   "cell_type": "code",
   "execution_count": 0,
   "metadata": {
    "colab": {},
    "colab_type": "code",
    "id": "sQBpXgRH02xp"
   },
   "outputs": [],
   "source": []
  },
  {
   "cell_type": "code",
   "execution_count": 0,
   "metadata": {
    "colab": {},
    "colab_type": "code",
    "id": "5BvRfPU802xr"
   },
   "outputs": [],
   "source": []
  },
  {
   "cell_type": "code",
   "execution_count": 0,
   "metadata": {
    "colab": {},
    "colab_type": "code",
    "id": "1N5iOX1U02xv"
   },
   "outputs": [],
   "source": []
  },
  {
   "cell_type": "code",
   "execution_count": 0,
   "metadata": {
    "colab": {},
    "colab_type": "code",
    "id": "5B-8iEY_02yA"
   },
   "outputs": [],
   "source": []
  },
  {
   "cell_type": "markdown",
   "metadata": {
    "colab_type": "text",
    "id": "sqX9jkMt02yE"
   },
   "source": [
    "Немного магии Python:<br>\n",
    "Что, если вы хотите создать массив из всех целых чисел от 0 до 50? Неужели его нужно прописывать руками? Отнюдь нет.<br>"
   ]
  },
  {
   "cell_type": "code",
   "execution_count": 0,
   "metadata": {
    "colab": {},
    "colab_type": "code",
    "id": "gTNAukK202yF"
   },
   "outputs": [],
   "source": [
    "my_list = [x for x in range(51)]\n",
    "print(my_list)"
   ]
  },
  {
   "cell_type": "markdown",
   "metadata": {
    "colab_type": "text",
    "id": "SPs3dd_802yJ"
   },
   "source": [
    "В первый раз может выглядеть запутывающе, однако главная команда здесь - range(). <br>\n",
    "Именно она отвечает за генерацию чисел в заданном диапазоне. <br>\n",
    "range(51) - генерирует все целые числа от 0 (вы же помните, что программисты любят считать с 0?) до 51. <br>\n",
    "Если мы хотим сгенировать числа в заданном диапазоне, то нужно использовать следующий синтаксис: range(стартовое число, конечное число), пример:"
   ]
  },
  {
   "cell_type": "code",
   "execution_count": 0,
   "metadata": {
    "colab": {},
    "colab_type": "code",
    "id": "1fJSzaS402yK"
   },
   "outputs": [],
   "source": [
    "my_list = [x for x in range(1, 11)]\n",
    "print(my_list)"
   ]
  },
  {
   "cell_type": "markdown",
   "metadata": {
    "colab_type": "text",
    "id": "3Xtk7YXBUlvy"
   },
   "source": [
    "**ЗАДАНИЕ**: создайте лист, содержащий числа от 225 до 242 (включительно). Выведите его на экран, результат скопируйте и отправьте в edx."
   ]
  },
  {
   "cell_type": "code",
   "execution_count": 1,
   "metadata": {
    "colab": {},
    "colab_type": "code",
    "id": "WwjctVn302yS"
   },
   "outputs": [
    {
     "name": "stdout",
     "output_type": "stream",
     "text": [
      "[225, 226, 227, 228, 229, 230, 231, 232, 233, 234, 235, 236, 237, 238, 239, 240, 241, 242]\n"
     ]
    }
   ],
   "source": [
    "print([x for x in range(225, 243)])"
   ]
  },
  {
   "cell_type": "code",
   "execution_count": 0,
   "metadata": {
    "colab": {},
    "colab_type": "code",
    "id": "-V10-auP02yU"
   },
   "outputs": [],
   "source": []
  },
  {
   "cell_type": "markdown",
   "metadata": {
    "colab_type": "text",
    "id": "QYUIzl4q02yW"
   },
   "source": [
    "### Условия (if, else, elif)"
   ]
  },
  {
   "cell_type": "markdown",
   "metadata": {
    "colab_type": "text",
    "id": "AxeN1HaV02yX"
   },
   "source": [
    "Довольно часто при написании программ возникают ситуации, в которых необходимы действия при определенных условиях. Например, если вы проектируете автопилот: если впереди машины пешеход, то нужно приостановить. Если впереди другая машина, то нужно держать дистанцию, регулируя скорость. <br>\n",
    "Именно для программирования того, как программа должна вести себя при определенных условиях и существуют операторы if, elif, else. <br>\n",
    "Рассмотрим для начала простой пример, в котором мы проверяем два числа на равенство. "
   ]
  },
  {
   "cell_type": "code",
   "execution_count": 0,
   "metadata": {
    "colab": {},
    "colab_type": "code",
    "id": "J6fK51hV02yY"
   },
   "outputs": [],
   "source": [
    "x = 1\n",
    "y = 1\n",
    "\n",
    "if x == y:\n",
    "    print('x равен у')\n",
    "else:\n",
    "    print('x не равен у')"
   ]
  },
  {
   "cell_type": "markdown",
   "metadata": {
    "colab_type": "text",
    "id": "7hoNx51HU2QP"
   },
   "source": [
    "**ЗАДАНИЕ**: измените значение переменных х и у так, чтобы условие было неверным"
   ]
  },
  {
   "cell_type": "code",
   "execution_count": 0,
   "metadata": {
    "colab": {},
    "colab_type": "code",
    "id": "PT1dXO6t02yd"
   },
   "outputs": [],
   "source": [
    "x = \n",
    "y = \n",
    "\n",
    "if x == y:\n",
    "    print('x равен у')\n",
    "else:\n",
    "    print('x не равен у')"
   ]
  },
  {
   "cell_type": "code",
   "execution_count": 0,
   "metadata": {
    "colab": {},
    "colab_type": "code",
    "id": "yKGZib0002yl"
   },
   "outputs": [],
   "source": []
  },
  {
   "cell_type": "code",
   "execution_count": 0,
   "metadata": {
    "colab": {},
    "colab_type": "code",
    "id": "cG3alUwI02yn"
   },
   "outputs": [],
   "source": [
    "x = 1\n",
    "y = 1\n",
    "\n",
    "if x == y:\n",
    "    print('x равен у')\n",
    "    print('здесь может быть очень много команд')\n",
    "    \n",
    "    if x % 2 == 0:\n",
    "        print('х еще и четное!')\n",
    "    else:\n",
    "        print('х еще и НЕчетное!')\n",
    "else:\n",
    "    print('x не равен у')"
   ]
  },
  {
   "cell_type": "markdown",
   "metadata": {
    "colab_type": "text",
    "id": "0CKtCY1hUxm3"
   },
   "source": [
    "**ЗАДАНИЕ**: измените значение переменных х и у так, чтобы условие о четности было неверным"
   ]
  },
  {
   "cell_type": "code",
   "execution_count": 0,
   "metadata": {
    "colab": {},
    "colab_type": "code",
    "id": "hS1sPGiO02y5"
   },
   "outputs": [],
   "source": [
    "x = \n",
    "y = \n",
    "\n",
    "if x == y:\n",
    "    print('x равен у')\n",
    "    print('здесь может быть очень много команд')\n",
    "    \n",
    "    if x % 2 == 0:\n",
    "        print('х еще и четное!')\n",
    "    else:\n",
    "        print('х еще и НЕчетное!')\n",
    "else:\n",
    "    print('x не равен у')"
   ]
  },
  {
   "cell_type": "markdown",
   "metadata": {
    "colab_type": "text",
    "id": "u6tbN45D02zF"
   },
   "source": [
    "**ЗАДАНИЕ**: напишите код, который проверят значение переменной z на четность, и если значение четное, то выводит на экран 1, иначе 0"
   ]
  },
  {
   "cell_type": "code",
   "execution_count": 0,
   "metadata": {
    "colab": {},
    "colab_type": "code",
    "id": "eRjyag7m02zG"
   },
   "outputs": [],
   "source": []
  },
  {
   "cell_type": "markdown",
   "metadata": {
    "colab_type": "text",
    "id": "2GsTgdfw02zO"
   },
   "source": [
    "Вспомним, что условия можно комбинировать с помощью операторов and и or"
   ]
  },
  {
   "cell_type": "code",
   "execution_count": 0,
   "metadata": {
    "colab": {},
    "colab_type": "code",
    "id": "P-AHBa3y02zP"
   },
   "outputs": [],
   "source": [
    "width = 50\n",
    "height = 70\n",
    "\n",
    "if (width < 70) and (height > 10):\n",
    "    print('ширина меньше 70, высота больше 10')\n",
    "else:\n",
    "    print('эх..')"
   ]
  },
  {
   "cell_type": "markdown",
   "metadata": {
    "colab_type": "text",
    "id": "vHJYdjR1U7A4"
   },
   "source": [
    "**ЗАДАНИЕ**: измените значение переменных width и height так, чтобы условие было неверным"
   ]
  },
  {
   "cell_type": "code",
   "execution_count": 0,
   "metadata": {
    "colab": {},
    "colab_type": "code",
    "id": "OvoasHAH02zs"
   },
   "outputs": [],
   "source": [
    "width = \n",
    "height = \n",
    "\n",
    "if (width < 70) and (height > 10):\n",
    "    print('ширина меньше 70, высота больше 10')\n",
    "else:\n",
    "    print('эх..')"
   ]
  },
  {
   "cell_type": "markdown",
   "metadata": {
    "colab_type": "text",
    "id": "41KJg-Ho02zt"
   },
   "source": [
    "**ЗАДАЧА**: \n",
    "<br>На вход подается два числа. \n",
    "<br>Вам нужно написать код, который выводит большее из них и при этом делящееся на 2. Если ни одно из них не удволетворяет критерию - вывести сообщение об этом.\n"
   ]
  },
  {
   "cell_type": "code",
   "execution_count": 0,
   "metadata": {
    "colab": {},
    "colab_type": "code",
    "id": "xGQRpJrV02zu"
   },
   "outputs": [],
   "source": []
  },
  {
   "cell_type": "code",
   "execution_count": 0,
   "metadata": {
    "colab": {},
    "colab_type": "code",
    "id": "NevfSDYJ02zx"
   },
   "outputs": [],
   "source": []
  },
  {
   "cell_type": "markdown",
   "metadata": {
    "colab_type": "text",
    "id": "1zlzt5sU02z1"
   },
   "source": [
    "**ЗАДАЧА ПОВЫШЕННОЙ СЛОЖНОСТИ**:<br> На вход Вам дается 3 числа.\n",
    "<br>Предположим, что значения этих чисел - это длины сторон треугольника. По этим трем числам вы должны определить тип треугольника (равносторонний, равнобедренный, разносторонний).\n"
   ]
  },
  {
   "cell_type": "code",
   "execution_count": 0,
   "metadata": {
    "colab": {},
    "colab_type": "code",
    "id": "g5QBBhWQ02z2"
   },
   "outputs": [],
   "source": []
  },
  {
   "cell_type": "code",
   "execution_count": 0,
   "metadata": {
    "colab": {},
    "colab_type": "code",
    "id": "eyiwK4o-02z9"
   },
   "outputs": [],
   "source": []
  },
  {
   "cell_type": "code",
   "execution_count": 0,
   "metadata": {
    "colab": {},
    "colab_type": "code",
    "id": "tLG4Ay9s020A"
   },
   "outputs": [],
   "source": []
  },
  {
   "cell_type": "markdown",
   "metadata": {
    "colab_type": "text",
    "id": "aInHvT5b020C"
   },
   "source": [
    "**ЗАДАЧА ПОВЫШЕННОЙ СЛОЖНОСТИ**:<br>\n",
    "Написать программу переводящую человеческие года в собачьи.<br>\n",
    "2 первых человеческих года равны 10.5 собачьим, последующие равны 4.<br>\n",
    "Например 3(ч.г.) = 25(с.г.) или 1(ч.г.) = 10.5(с.г.)<br>\n",
    "\n",
    "На вход подается число равное кол-ву человеческих лет (может быть дробным), если число отрицательное надо вывести сообщение об ошибке<br>\n",
    "Например “Вы ввели отрицательное число лет”.<br>"
   ]
  },
  {
   "cell_type": "code",
   "execution_count": 0,
   "metadata": {
    "colab": {},
    "colab_type": "code",
    "id": "2P1jBemB020C"
   },
   "outputs": [],
   "source": []
  },
  {
   "cell_type": "code",
   "execution_count": 0,
   "metadata": {
    "colab": {},
    "colab_type": "code",
    "id": "wpv-z9e7020G"
   },
   "outputs": [],
   "source": []
  },
  {
   "cell_type": "code",
   "execution_count": 0,
   "metadata": {
    "colab": {},
    "colab_type": "code",
    "id": "81CS0NW1020M"
   },
   "outputs": [],
   "source": []
  },
  {
   "cell_type": "code",
   "execution_count": 0,
   "metadata": {
    "colab": {},
    "colab_type": "code",
    "id": "cn8sh4Cm020P"
   },
   "outputs": [],
   "source": []
  },
  {
   "cell_type": "markdown",
   "metadata": {
    "colab_type": "text",
    "id": "3r4PArer020S"
   },
   "source": [
    "### Цикл for"
   ]
  },
  {
   "cell_type": "markdown",
   "metadata": {
    "colab_type": "text",
    "id": "Rw8dSF4D020T"
   },
   "source": [
    "Часто возникает ситуация, когда во время написание программы какое-то действие хочется повторить несколько раз. Например, посчитать квадраты наборы чисел. Операция возведения в квадрат - одна, а применить мы ее хотим к набору объектов. Как же нам это сделать?<br>\n",
    "Здесь на помощь приходят циклы. Цикл, это специальная конструкция, которая позволяет повторить произвольный набор действий заданное (или не заданное) количество раз. <br>\n",
    "Если мы точно знаем, сколько раз мы хотим применить один и тот же участок кода к последовательности объектов - то нужно использовать цикл **for**. Разберем на примере"
   ]
  },
  {
   "cell_type": "code",
   "execution_count": 0,
   "metadata": {
    "colab": {
     "base_uri": "https://localhost:8080/",
     "height": 104
    },
    "colab_type": "code",
    "id": "e51CxZbP020U",
    "outputId": "5851c048-eae5-42ac-b039-15b95b95664d"
   },
   "outputs": [
    {
     "name": "stdout",
     "output_type": "stream",
     "text": [
      "0\n",
      "1\n",
      "2\n",
      "3\n",
      "4\n"
     ]
    }
   ],
   "source": [
    "# i будет менять значение от 0 до 5. На каждом шаге цикла - одно значение, которое мы и выводим на экран\n",
    "for i in range(5):\n",
    "    print(i)"
   ]
  },
  {
   "cell_type": "code",
   "execution_count": 0,
   "metadata": {
    "colab": {},
    "colab_type": "code",
    "id": "CkvGIqKs020l"
   },
   "outputs": [],
   "source": [
    "# функцию range() мы уже встречали ранее, здесь у нее ровно тот же самый функционал\n",
    "for i in range(10, 14):\n",
    "    print(i)"
   ]
  },
  {
   "cell_type": "markdown",
   "metadata": {
    "colab_type": "text",
    "id": "GY9d2JSe020o"
   },
   "source": [
    "**ЗАДАНИЕ**: напишите цикл for, в котором значение пременной счетчика меняются от 20 до 25 включительно, на каждом шаге выводите значение счетчика на экран"
   ]
  },
  {
   "cell_type": "code",
   "execution_count": 0,
   "metadata": {
    "colab": {},
    "colab_type": "code",
    "id": "Hq3Erkx4020p"
   },
   "outputs": [],
   "source": []
  },
  {
   "cell_type": "markdown",
   "metadata": {
    "colab_type": "text",
    "id": "y7YACRBc020r"
   },
   "source": [
    "Все операторы, которые мы обсуждали до этого, можно комибинировать. Цикл в клетке ниже перебирает значение счетчика i от 0 до 19 и проверяет каждое значение i на наличие остатка при делении на 5. Если это условие верно, то мы выводим это число на экран. "
   ]
  },
  {
   "cell_type": "code",
   "execution_count": 0,
   "metadata": {
    "colab": {},
    "colab_type": "code",
    "id": "AwiJ7-p8020s"
   },
   "outputs": [],
   "source": [
    "for i in range(20):\n",
    "    if (i % 5) == 0:\n",
    "        print(i, 'делится на 5 без остатка')"
   ]
  },
  {
   "cell_type": "markdown",
   "metadata": {
    "colab_type": "text",
    "id": "SB9ZxauJ020u"
   },
   "source": [
    "**ЗАДАНИЕ**: напишите цикл for, в котором значение пременной счетчика меняются от 0 до 10 включительно, на каждом шаге выводите значение счетчика на экран в том случае, если оно делится без остатка на 2"
   ]
  },
  {
   "cell_type": "code",
   "execution_count": 0,
   "metadata": {
    "colab": {},
    "colab_type": "code",
    "id": "GdMNONF1020v"
   },
   "outputs": [],
   "source": []
  },
  {
   "cell_type": "markdown",
   "metadata": {
    "colab_type": "text",
    "id": "Inab3Nu4020v"
   },
   "source": [
    "Так же с помощью цикла for можно \"проходиться\" по существующим объектам. Например, массивам. Вспомним лист temperatures, который мы обсуждали ранее. Пройдемся по его значениям с помощью цикла for. "
   ]
  },
  {
   "cell_type": "code",
   "execution_count": 2,
   "metadata": {
    "colab": {},
    "colab_type": "code",
    "id": "wftg2Aia020x"
   },
   "outputs": [],
   "source": [
    "# создадим лист\n",
    "temperatures = [12, 14, 15, 10, 14, 18, 11, 21, 23, 21, 25, 19, 15, 12, 14]"
   ]
  },
  {
   "cell_type": "code",
   "execution_count": 3,
   "metadata": {
    "colab": {},
    "colab_type": "code",
    "id": "XgboXNGa020z"
   },
   "outputs": [
    {
     "name": "stdout",
     "output_type": "stream",
     "text": [
      "12\n",
      "14\n",
      "15\n",
      "10\n",
      "14\n",
      "18\n",
      "11\n",
      "21\n",
      "23\n",
      "21\n",
      "25\n",
      "19\n",
      "15\n",
      "12\n",
      "14\n"
     ]
    }
   ],
   "source": [
    "for temp in temperatures:\n",
    "    print(temp)"
   ]
  },
  {
   "cell_type": "markdown",
   "metadata": {
    "colab_type": "text",
    "id": "WT2jsksd0202"
   },
   "source": [
    "Довольно просто! <br>\n",
    "**ЗАДАНИЕ**: выведите на экран только четные числа из листа temperatures. Используйте цикл for. Ответ в виде последовательности чисел скопируйте и отправьте в edx."
   ]
  },
  {
   "cell_type": "code",
   "execution_count": 4,
   "metadata": {
    "colab": {},
    "colab_type": "code",
    "id": "tXkJQTx20202"
   },
   "outputs": [
    {
     "name": "stdout",
     "output_type": "stream",
     "text": [
      "12\n",
      "14\n",
      "10\n",
      "14\n",
      "18\n",
      "12\n",
      "14\n"
     ]
    }
   ],
   "source": [
    "for x in temperatures:\n",
    "    if (x % 2) == 0:\n",
    "        print(x)"
   ]
  },
  {
   "cell_type": "markdown",
   "metadata": {
    "colab_type": "text",
    "id": "5LheO9Pm0208"
   },
   "source": [
    "А как же нам добавить в лист новый элемент? Для этого есть специальная функция .append(element)"
   ]
  },
  {
   "cell_type": "code",
   "execution_count": 0,
   "metadata": {
    "colab": {},
    "colab_type": "code",
    "id": "TtL9V_m80209"
   },
   "outputs": [],
   "source": [
    "data = [100, 200]\n",
    "print(data)"
   ]
  },
  {
   "cell_type": "code",
   "execution_count": 0,
   "metadata": {
    "colab": {},
    "colab_type": "code",
    "id": "TZru5xGE021A"
   },
   "outputs": [],
   "source": [
    "data.append(300)\n",
    "print(data)"
   ]
  },
  {
   "cell_type": "markdown",
   "metadata": {
    "colab_type": "text",
    "id": "enp32lEL021D"
   },
   "source": [
    "Теперь созданим пустой лист, и заполним его квадратами чисел от 0 до 5"
   ]
  },
  {
   "cell_type": "code",
   "execution_count": 0,
   "metadata": {
    "colab": {},
    "colab_type": "code",
    "id": "_O_ru3ML021D"
   },
   "outputs": [],
   "source": [
    "squares = []\n",
    "\n",
    "for x in range(0, 6):\n",
    "    squares.append(x ** 2)\n",
    "\n",
    "print(squares)"
   ]
  },
  {
   "cell_type": "markdown",
   "metadata": {
    "colab_type": "text",
    "id": "POVac4e6021E"
   },
   "source": [
    "В комбинации с циклами часто используется важный оператор break. Во время его вызова цикл обрывается и заканчивает свою работу. Разберем на примере"
   ]
  },
  {
   "cell_type": "code",
   "execution_count": 0,
   "metadata": {
    "colab": {},
    "colab_type": "code",
    "id": "hao2BliM021G"
   },
   "outputs": [],
   "source": [
    "squares = []\n",
    "\n",
    "for x in range(0, 6):\n",
    "    if x < 3:\n",
    "        squares.append(x ** 2)\n",
    "    else:\n",
    "        break\n",
    "\n",
    "print(squares)"
   ]
  },
  {
   "cell_type": "markdown",
   "metadata": {
    "colab_type": "text",
    "id": "aJ3vUT9T021H"
   },
   "source": [
    "Можно заметить, что теперь в массиве squares всего 3 числа. Это связано с условием, которое мы добавили: когда х становится равен 3, условие не выполняется и мы ведем в ветку else, в которой обрываем цикл с помощью команды break"
   ]
  },
  {
   "cell_type": "markdown",
   "metadata": {
    "colab_type": "text",
    "id": "jJfLQJj1021I"
   },
   "source": [
    "**ЗАДАНИЕ**: напишите код, который добавляет в пустой лист кубы всех чисел от 1 до 15 при условии, что куб будет меньше 100. Результат скопируйте и отправьте в edx."
   ]
  },
  {
   "cell_type": "code",
   "execution_count": 5,
   "metadata": {
    "colab": {},
    "colab_type": "code",
    "id": "VU4gDf8z021R"
   },
   "outputs": [
    {
     "name": "stdout",
     "output_type": "stream",
     "text": [
      "[1, 8, 27, 64]\n"
     ]
    }
   ],
   "source": [
    "print([x**3 for x in range(1, 15) if x**3 < 100])"
   ]
  },
  {
   "cell_type": "markdown",
   "metadata": {
    "colab_type": "text",
    "id": "A3XxOdIY021U"
   },
   "source": [
    "**ЗАДАНИЕ**: Создайте переменную n, задайте ей произвольное значение. Создайте лист, содержащий в себе натуральные числа, которые при возведении в 2-ю степень меньше n. <br>\n",
    "Выведите получившийся лист на экран. <br>"
   ]
  },
  {
   "cell_type": "code",
   "execution_count": 0,
   "metadata": {
    "colab": {},
    "colab_type": "code",
    "id": "uDCedvxj021V"
   },
   "outputs": [],
   "source": []
  },
  {
   "cell_type": "markdown",
   "metadata": {
    "colab_type": "text",
    "id": "kjS32VKa021X"
   },
   "source": [
    "**ЗАДАНИЕ ПОВЫШЕННОЙ СЛОЖНОСТИ: **<br>Написать программу для поиска наибольшего общего делителя 2-ух целых чисел. "
   ]
  },
  {
   "cell_type": "code",
   "execution_count": 0,
   "metadata": {
    "colab": {},
    "colab_type": "code",
    "id": "Ki1YSSPB021Y"
   },
   "outputs": [],
   "source": []
  },
  {
   "cell_type": "markdown",
   "metadata": {
    "colab_type": "text",
    "id": "wkzFQfoN021a"
   },
   "source": [
    "### Цикл while"
   ]
  },
  {
   "cell_type": "markdown",
   "metadata": {
    "colab_type": "text",
    "id": "9Jo5wG3r021b"
   },
   "source": [
    "Если же мы хотим, чтобы действия выполнялись, пока какое-то условие верно, то в этом случае стоит использовать цикл ***while***"
   ]
  },
  {
   "cell_type": "code",
   "execution_count": 0,
   "metadata": {
    "colab": {
     "base_uri": "https://localhost:8080/",
     "height": 104
    },
    "colab_type": "code",
    "id": "GumM5HbH021c",
    "outputId": "a09f778d-3990-4cd0-ed1d-da9707f9cd59"
   },
   "outputs": [
    {
     "name": "stdout",
     "output_type": "stream",
     "text": [
      "0\n",
      "1\n",
      "2\n",
      "3\n",
      "4\n"
     ]
    }
   ],
   "source": [
    "z = 0\n",
    "\"\"\"\n",
    "пока значение переменной z меньше 5, цикл будет работать, на каждом шаге печатая значение переменной z, \n",
    "и увеличивая ее значение на 1. Как только z будет равно 5 - цикл закончит свою работу.\n",
    "\"\"\" \n",
    "while z < 5:\n",
    "    print(z)\n",
    "    z = z + 1"
   ]
  },
  {
   "cell_type": "markdown",
   "metadata": {
    "colab_type": "text",
    "id": "0i3myS5a021f"
   },
   "source": [
    "Помните команду break, которая обрывает цикл в указанный момент? В циклах while она так же применима. "
   ]
  },
  {
   "cell_type": "code",
   "execution_count": 0,
   "metadata": {
    "colab": {
     "base_uri": "https://localhost:8080/",
     "height": 34
    },
    "colab_type": "code",
    "id": "Vm6rfQaM021f",
    "outputId": "8e4077d9-4caf-4062-c4c3-32e6f6debef5"
   },
   "outputs": [
    {
     "name": "stdout",
     "output_type": "stream",
     "text": [
      "0\n"
     ]
    }
   ],
   "source": [
    "z = 0\n",
    "\n",
    "while z < 5:\n",
    "    print(z)\n",
    "    z = z + 1\n",
    "    # принудительно завершаем цикл с помощью команды break\n",
    "    break"
   ]
  },
  {
   "cell_type": "markdown",
   "metadata": {
    "colab_type": "text",
    "id": "7bv0ByEH7JlD"
   },
   "source": [
    "**ЗАДАНИЕ**: напишите код, который добавляет в массив нули, пока длина массива меньше 10"
   ]
  },
  {
   "cell_type": "code",
   "execution_count": 0,
   "metadata": {
    "colab": {},
    "colab_type": "code",
    "id": "cQ0_VXaH5gA2"
   },
   "outputs": [],
   "source": []
  },
  {
   "cell_type": "code",
   "execution_count": 0,
   "metadata": {
    "colab": {},
    "colab_type": "code",
    "id": "3Me6X1-Y5f07"
   },
   "outputs": [],
   "source": []
  },
  {
   "cell_type": "markdown",
   "metadata": {
    "colab_type": "text",
    "id": "7LoHn5gL021k"
   },
   "source": [
    "### Функции"
   ]
  },
  {
   "cell_type": "markdown",
   "metadata": {
    "colab_type": "text",
    "id": "QOTk03T8021k"
   },
   "source": [
    "Часто бывает, что один и тот же кусок кода постоянно повторяется в программе, особенно если она очень большая. Функция - это способ вынести повторяющийся код в определенное место, назвав его при этом осмысленным образом, чтобы можно было легко переиспользовать его в дальнейшем. \n",
    "<br>\n",
    "Очень важно давать функциям понятные имена, чтобы потом было легче вспомнить, что она делает, и переиспользовать ее в других программах. Так же ваш код могут читать ваши коллеги, и чем понятнее вы его будете писать, тем более эффективно будет строится ваша работа."
   ]
  },
  {
   "cell_type": "code",
   "execution_count": 0,
   "metadata": {
    "colab": {},
    "colab_type": "code",
    "id": "GR1OMknk021m"
   },
   "outputs": [],
   "source": [
    "# пример функции, которая поэлементно выводит на экран элементы массива\n",
    "def print_array(array):\n",
    "    for x in array:\n",
    "        print(x)"
   ]
  },
  {
   "cell_type": "markdown",
   "metadata": {
    "colab_type": "text",
    "id": "b5eAMKGe021r"
   },
   "source": [
    "**ЗАДАНИЕ**: Напишите функцию, которая выводит слова “Привет” на 3-ех языках. <br>\n",
    "Пример:<br>\n",
    "say_hello()<br>\n",
    "<b>Вывод:</b><br>\n",
    "hello<br>\n",
    "привет<br>\n",
    "Guten Tag<br>\n"
   ]
  },
  {
   "cell_type": "code",
   "execution_count": 0,
   "metadata": {
    "colab": {},
    "colab_type": "code",
    "id": "ErWIVVj6021s"
   },
   "outputs": [],
   "source": [
    "def say_hello():\n",
    "    ..."
   ]
  },
  {
   "cell_type": "markdown",
   "metadata": {
    "colab_type": "text",
    "id": "dJHqeLSo021v"
   },
   "source": [
    "**ЗАДАНИЕ**: Напишите функцию, проверяющую число на делимость на 3. Если число делится, то верните 1, иначе 0."
   ]
  },
  {
   "cell_type": "code",
   "execution_count": 0,
   "metadata": {
    "colab": {},
    "colab_type": "code",
    "id": "q1THTZzI021w"
   },
   "outputs": [],
   "source": []
  },
  {
   "cell_type": "markdown",
   "metadata": {
    "colab_type": "text",
    "id": "nfzGS6gS021z"
   },
   "source": [
    "**ЗАДАНИЕ**: Напишите функцию, которая получает на вход 2 числа, и возвращает их сумму, если первое больше второго, и произведение, если наоборот"
   ]
  },
  {
   "cell_type": "code",
   "execution_count": 0,
   "metadata": {
    "colab": {},
    "colab_type": "code",
    "id": "3lFGPDvC0210"
   },
   "outputs": [],
   "source": []
  },
  {
   "cell_type": "markdown",
   "metadata": {
    "colab_type": "text",
    "id": "rtC3R-Ch0215"
   },
   "source": [
    "**ЗАДАНИЕ**: Напишите функцию, на вход принимающую лист, и возвращающую его среднее арифметическое.<br>\n",
    "Пример:<br>\n",
    "calculate_list_average([1,2,3])<br>\n",
    "<b>Вывод</b><br>\n",
    "2\n"
   ]
  },
  {
   "cell_type": "code",
   "execution_count": 0,
   "metadata": {
    "colab": {},
    "colab_type": "code",
    "id": "V8Dyl5F70218"
   },
   "outputs": [],
   "source": [
    "def calculate_list_average(...):\n",
    "    ..."
   ]
  },
  {
   "cell_type": "markdown",
   "metadata": {
    "colab_type": "text",
    "id": "fjqP6ziF021-"
   },
   "source": [
    "**ЗАДАНИЕ ПОВЫШЕННОЙ СЛОЖНОСТИ: **Напишите функцию, которая в качестве аргумента принимает произвольный лист, а возвращает лист, полученный из исходного путем удаления повторяющихся элементов."
   ]
  },
  {
   "cell_type": "code",
   "execution_count": 0,
   "metadata": {
    "colab": {},
    "colab_type": "code",
    "id": "gYdp-V2Y021_"
   },
   "outputs": [],
   "source": []
  },
  {
   "cell_type": "markdown",
   "metadata": {
    "colab_type": "text",
    "id": "XgyG8lTj022A"
   },
   "source": [
    "### Модули расширений"
   ]
  },
  {
   "cell_type": "code",
   "execution_count": 0,
   "metadata": {
    "colab": {},
    "colab_type": "code",
    "id": "E9Lnvl_r022B"
   },
   "outputs": [],
   "source": [
    "# импортируем модули, отвечающие за генерацию случайных чисел и математические функции\n",
    "import random\n",
    "import math"
   ]
  },
  {
   "cell_type": "code",
   "execution_count": 0,
   "metadata": {
    "colab": {},
    "colab_type": "code",
    "id": "rUa7ssYc022D"
   },
   "outputs": [],
   "source": [
    "# зафиксируем сид\n",
    "random.seed(257)"
   ]
  },
  {
   "cell_type": "code",
   "execution_count": 0,
   "metadata": {
    "colab": {},
    "colab_type": "code",
    "id": "cSd0Q6TC022G"
   },
   "outputs": [],
   "source": [
    "# сгенерируем для примера случайное целое число от 1 до 100\n",
    "random.randint(1, 100)"
   ]
  },
  {
   "cell_type": "markdown",
   "metadata": {
    "colab_type": "text",
    "id": "maCUGZx4022K"
   },
   "source": [
    "**ЗАДАНИЕ**: создайте лист из 10-ти случайных чисел"
   ]
  },
  {
   "cell_type": "code",
   "execution_count": 0,
   "metadata": {
    "colab": {},
    "colab_type": "code",
    "id": "3RdE21AA022K"
   },
   "outputs": [],
   "source": []
  },
  {
   "cell_type": "markdown",
   "metadata": {
    "colab_type": "text",
    "id": "TyTf8sQ1022L"
   },
   "source": [
    "**ЗАДАНИЕ**: создайте лист, заполненный квадратными корнями из натуральных чисел до 10. Используйте функцию math.sqrt"
   ]
  },
  {
   "cell_type": "code",
   "execution_count": 0,
   "metadata": {
    "colab": {},
    "colab_type": "code",
    "id": "PUdwDhj1022M"
   },
   "outputs": [],
   "source": [
    "# пример использования math.sqrt(number)\n",
    "math.sqrt(9)"
   ]
  },
  {
   "cell_type": "code",
   "execution_count": 0,
   "metadata": {
    "colab": {},
    "colab_type": "code",
    "id": "EsoynOJH022Q"
   },
   "outputs": [],
   "source": []
  },
  {
   "cell_type": "markdown",
   "metadata": {
    "colab_type": "text",
    "id": "KPXcn2nB022T"
   },
   "source": [
    "**ЗАДАНИЕ**: создайте лист длиной 10, значения которого будут являтся 4-ю степенью случайного числа в промежутке от 1 до 10. Используйте функцию math.pow(число, степень)"
   ]
  },
  {
   "cell_type": "code",
   "execution_count": 0,
   "metadata": {
    "colab": {},
    "colab_type": "code",
    "id": "FhE_jPHi022U"
   },
   "outputs": [],
   "source": [
    "# пример использования math.pow()\n",
    "math.pow(3.14, 4)"
   ]
  },
  {
   "cell_type": "code",
   "execution_count": 0,
   "metadata": {
    "colab": {},
    "colab_type": "code",
    "id": "aU8Z5I3a022X"
   },
   "outputs": [],
   "source": []
  }
 ],
 "metadata": {
  "colab": {
   "collapsed_sections": [],
   "name": "Введение в Python.ipynb",
   "provenance": [],
   "version": "0.3.2"
  },
  "kernelspec": {
   "display_name": "Python 3",
   "language": "python",
   "name": "python3"
  },
  "language_info": {
   "codemirror_mode": {
    "name": "ipython",
    "version": 3
   },
   "file_extension": ".py",
   "mimetype": "text/x-python",
   "name": "python",
   "nbconvert_exporter": "python",
   "pygments_lexer": "ipython3",
   "version": "3.7.1"
  }
 },
 "nbformat": 4,
 "nbformat_minor": 1
}
