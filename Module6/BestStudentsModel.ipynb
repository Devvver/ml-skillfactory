{
 "cells": [
  {
   "cell_type": "code",
   "execution_count": null,
   "metadata": {
    "_cell_guid": "b1076dfc-b9ad-4769-8c92-a6c4dae69d19",
    "_uuid": "8f2839f25d086af736a60e9eeb907d3b93b6e0e5"
   },
   "outputs": [],
   "source": [
    "# This Python 3 environment comes with many helpful analytics libraries installed\n",
    "# It is defined by the kaggle/python docker image: https://github.com/kaggle/docker-python\n",
    "# For example, here's several helpful packages to load in \n",
    "\n",
    "import numpy as np # linear algebra\n",
    "import pandas as pd # data processing, CSV file I/O (e.g. pd.read_csv)\n",
    "\n",
    "# Input data files are available in the \"../input/\" directory.\n",
    "# For example, running this (by clicking run or pressing Shift+Enter) will list the files in the input directory\n",
    "\n",
    "import os\n",
    "print(os.listdir(\"../input\"))\n",
    "\n",
    "# Any results you write to the current directory are saved as output."
   ]
  },
  {
   "cell_type": "code",
   "execution_count": null,
   "metadata": {
    "_uuid": "8ab015655224e1707523e85590a3a6ea628dc84e"
   },
   "outputs": [],
   "source": [
    "%matplotlib inline\n",
    "from matplotlib import pyplot as plt\n",
    "import math"
   ]
  },
  {
   "cell_type": "markdown",
   "metadata": {
    "_uuid": "ce528c17c68fb12519ce47544b6f6fbd8286493e"
   },
   "source": [
    "### Класс для преобразования тестовых ярлыков в цифровые"
   ]
  },
  {
   "cell_type": "code",
   "execution_count": null,
   "metadata": {
    "_uuid": "5c7ed0f32a9c83330a69f3f2092eb2a76f9c7821"
   },
   "outputs": [],
   "source": [
    "from sklearn.preprocessing import LabelEncoder\n",
    "from sklearn.pipeline import Pipeline\n",
    "\n",
    "class MultiColumnLabelEncoder:\n",
    "    def __init__(self,columns = None):\n",
    "        self.columns = columns # array of column names to encode\n",
    "\n",
    "    def fit(self,X,y=None):\n",
    "        return self # not relevant here\n",
    "\n",
    "    def transform(self,X):\n",
    "        '''\n",
    "        Transforms columns of X specified in self.columns using\n",
    "        LabelEncoder(). If no columns specified, transforms all\n",
    "        columns in X.\n",
    "        '''\n",
    "        output = X.copy()\n",
    "        if self.columns is not None:\n",
    "            for col in self.columns:\n",
    "                try:\n",
    "                    output[col] = LabelEncoder().fit_transform(output[col].astype(str))\n",
    "                except:\n",
    "                    print(\"Failed to process on {}: {}\".format(col, output[col]))\n",
    "        else:\n",
    "            for colname,col in output.iteritems():\n",
    "                output[colname] = LabelEncoder().fit_transform(col)\n",
    "        return output\n",
    "\n",
    "    def fit_transform(self,X,y=None):\n",
    "        return self.fit(X,y).transform(X)"
   ]
  },
  {
   "cell_type": "markdown",
   "metadata": {
    "_uuid": "d13c6c11e0d85fc132d96800659d32d6502abde5"
   },
   "source": [
    "### Загрузим файлы"
   ]
  },
  {
   "cell_type": "code",
   "execution_count": null,
   "metadata": {
    "_cell_guid": "79c7e3d0-c299-4dcb-8224-4455121ee9b0",
    "_uuid": "d629ff2d2480ee46fbb7e2d37f6b5fab8052498a"
   },
   "outputs": [],
   "source": [
    "tags = pd.read_csv('../input/tags.csv')"
   ]
  },
  {
   "cell_type": "code",
   "execution_count": null,
   "metadata": {
    "_uuid": "6c8d26c3516165ad2b83cb2a1985279f1cd43bd7"
   },
   "outputs": [],
   "source": [
    "tags.head()"
   ]
  },
  {
   "cell_type": "code",
   "execution_count": null,
   "metadata": {
    "_uuid": "14797660042f3e2a3a194c062b66323b373dc695"
   },
   "outputs": [],
   "source": [
    "train = pd.read_csv('../input/train.csv')"
   ]
  },
  {
   "cell_type": "code",
   "execution_count": null,
   "metadata": {
    "_uuid": "e81d9a2f6e43b3fecaf1036012175dc8d5bcb569"
   },
   "outputs": [],
   "source": [
    "train.head()"
   ]
  },
  {
   "cell_type": "code",
   "execution_count": null,
   "metadata": {
    "_uuid": "99a1ae09763648eaab386453af4c0c9e1cc1e7c2"
   },
   "outputs": [],
   "source": [
    "train.describe()"
   ]
  },
  {
   "cell_type": "code",
   "execution_count": null,
   "metadata": {
    "_uuid": "6669cef1d76e3a5bb02a450ea51765097ed4a84a"
   },
   "outputs": [],
   "source": [
    "movies = pd.read_csv('../input/movies.csv')"
   ]
  },
  {
   "cell_type": "code",
   "execution_count": null,
   "metadata": {
    "_uuid": "3026c222d52a9e91950cd069f72f57bd0cb69563"
   },
   "outputs": [],
   "source": [
    "movies.head()"
   ]
  },
  {
   "cell_type": "code",
   "execution_count": null,
   "metadata": {
    "_uuid": "b9f6947cb5f0fc292d57347f0da43b51dfaefedb"
   },
   "outputs": [],
   "source": [
    "from sklearn.preprocessing import LabelEncoder\n",
    "le = LabelEncoder()"
   ]
  },
  {
   "cell_type": "code",
   "execution_count": null,
   "metadata": {
    "_uuid": "2cf39560b98fb94266d3a90b50a396a0c33b38f1"
   },
   "outputs": [],
   "source": [
    "tags.head()"
   ]
  },
  {
   "cell_type": "markdown",
   "metadata": {
    "_uuid": "973163e197ca0fe08cecb9d6f91cc38226957f24"
   },
   "source": [
    "### Преобразуем ярлыки в цифры"
   ]
  },
  {
   "cell_type": "code",
   "execution_count": null,
   "metadata": {
    "_uuid": "9fd70dd4db871008f5ed699824df081ad1e9056e"
   },
   "outputs": [],
   "source": [
    "tags_with_num_labels = MultiColumnLabelEncoder(columns = ['tag']).fit_transform(tags)"
   ]
  },
  {
   "cell_type": "code",
   "execution_count": null,
   "metadata": {
    "_uuid": "e6859b4c39a86931bdb425ac781b7928aac0f055"
   },
   "outputs": [],
   "source": [
    "tags_with_num_labels.head()"
   ]
  },
  {
   "cell_type": "code",
   "execution_count": null,
   "metadata": {
    "_uuid": "c8e2f42db65436ef825e931409ea92084f8a7e84"
   },
   "outputs": [],
   "source": [
    "movies_with_num_labels = MultiColumnLabelEncoder(columns = ['title', 'genres']).fit_transform(movies)"
   ]
  },
  {
   "cell_type": "code",
   "execution_count": null,
   "metadata": {
    "_uuid": "b18c10712fda8af56d26fd7441cc0cf15228a26d"
   },
   "outputs": [],
   "source": [
    "movies_with_num_labels.head()"
   ]
  },
  {
   "cell_type": "markdown",
   "metadata": {
    "_uuid": "a3a8496a4768d9a6656223ec71f1efafcc232b60"
   },
   "source": [
    "### Класс для нормализации рейтинга"
   ]
  },
  {
   "cell_type": "code",
   "execution_count": null,
   "metadata": {
    "_uuid": "b2fa612edcd62edf17bf590312e39c6773bffa89"
   },
   "outputs": [],
   "source": [
    "class NormalizedRating(object):\n",
    "    def weighted_rating(self, data):\n",
    "        m = self.n_quantile\n",
    "        C = self.vote_mean\n",
    "        v = data['vote_count']\n",
    "        R = data['vote_average']\n",
    "        # Calculation based on the IMDB formula\n",
    "        return (v/(v+m) * R) + (m/(m+v) * C)\n",
    "\n",
    "    def get_votes(self, group):\n",
    "        return { \"vote_average\": group.mean(), \"vote_count\": group.count() }\n",
    "\n",
    "    def normalize_data(self, X):\n",
    "        rating_stats_extra = X.groupby('movieId')['rating'].apply(self.get_votes).unstack()\n",
    "        rating_stats_extra = rating_stats_extra.reset_index()\n",
    "\n",
    "        self.vote_quantile = rating_stats_extra['vote_count'].quantile(self.n_quantile)\n",
    "        self.vote_mean = rating_stats_extra['vote_average'].mean()\n",
    "\n",
    "        normalized_data = rating_stats_extra.copy().loc[rating_stats_extra['vote_count'] >= self.vote_quantile]\n",
    "        normalized_data['score'] = normalized_data.apply(self.weighted_rating, axis=1)\n",
    "\n",
    "        return normalized_data\n",
    "    \n",
    "    # При n_quantile > 0 score для менее популярных данных будет 0-м\n",
    "    def fit(self, X, n_quantile=0.90):\n",
    "        self.n_quantile = n_quantile\n",
    "        return self.normalize_data(X).fillna(0)\n",
    "\n",
    "    def fit_transform(self, X, n_quantile=0.90):\n",
    "        self.n_quantile = n_quantile\n",
    "        \n",
    "        return X.merge(self.fit(X, self.n_quantile))"
   ]
  },
  {
   "cell_type": "markdown",
   "metadata": {
    "_uuid": "e0881bd6df95b29426b147c339b7be36699b8048"
   },
   "source": [
    "#### Нормализируем рейтинг"
   ]
  },
  {
   "cell_type": "code",
   "execution_count": null,
   "metadata": {
    "_uuid": "f19f77ac61f32797dbde5857b244fd37dcbfbef7"
   },
   "outputs": [],
   "source": [
    "quantiles = [ 0.0, 0.1, 0.20, 0.40, 0.50, 0.75, 0.80, 0.85, 0.90, 0.95, 0.99 ]\n",
    "for quantile in quantiles:\n",
    "    plt.hist(NormalizedRating().fit_transform(train, n_quantile = quantile).sort_values('score', ascending=False).score, cumulative=False, label=\"{}\".format(quantile))\n",
    "\n",
    "plt.legend(loc='upper right')\n",
    "plt.grid(True)\n",
    "plt.show()"
   ]
  },
  {
   "cell_type": "code",
   "execution_count": null,
   "metadata": {
    "_uuid": "b337f995d39cee016cc69321f175b7b014ee3798"
   },
   "outputs": [],
   "source": [
    "norm_rating = NormalizedRating().fit_transform(train, n_quantile = 0.85).sort_values('score', ascending=False)"
   ]
  },
  {
   "cell_type": "code",
   "execution_count": null,
   "metadata": {
    "_uuid": "0dc58251c12f0940206c04bb7a134c6721db70a2"
   },
   "outputs": [],
   "source": [
    "plt.hist(norm_rating.score)"
   ]
  },
  {
   "cell_type": "code",
   "execution_count": null,
   "metadata": {
    "_uuid": "74c84ee87c9830cff6750fe68777b0153289b199"
   },
   "outputs": [],
   "source": [
    "plt.hist(norm_rating.rating)"
   ]
  },
  {
   "cell_type": "code",
   "execution_count": null,
   "metadata": {
    "_uuid": "70fc36e526e6a8731a24c1886b625e6d79564850"
   },
   "outputs": [],
   "source": [
    "norm_rating.head()"
   ]
  },
  {
   "cell_type": "code",
   "execution_count": null,
   "metadata": {
    "_uuid": "691785cac99e149b84ee24d18ac4195e5778142b"
   },
   "outputs": [],
   "source": [
    "norm_rating.describe()"
   ]
  },
  {
   "cell_type": "markdown",
   "metadata": {
    "_uuid": "6514841d51267572f32b3bdff60923ad766a5cbf"
   },
   "source": [
    "### Скомбинируем данные в одну таблицу"
   ]
  },
  {
   "cell_type": "code",
   "execution_count": null,
   "metadata": {
    "_uuid": "7ab36ead3bb4629d9c873c9aaabe1b1b393dde72"
   },
   "outputs": [],
   "source": [
    "combined = train.merge(norm_rating)"
   ]
  },
  {
   "cell_type": "code",
   "execution_count": null,
   "metadata": {
    "_uuid": "c2bb2503d12076634c35a98abba83a0ee4d0ee1f"
   },
   "outputs": [],
   "source": [
    "combined.count()"
   ]
  },
  {
   "cell_type": "code",
   "execution_count": null,
   "metadata": {
    "_uuid": "f383b4c42631641fc37968e59e14d3899505a069"
   },
   "outputs": [],
   "source": [
    "combined.head()"
   ]
  },
  {
   "cell_type": "markdown",
   "metadata": {
    "_uuid": "3f6910a5b942253d76fae12602154a1dbea34c32"
   },
   "source": [
    "### Проанализируем данные"
   ]
  },
  {
   "cell_type": "code",
   "execution_count": null,
   "metadata": {
    "_uuid": "4a76b415824fa8d09792d06cfb1fd154f8390ff6"
   },
   "outputs": [],
   "source": [
    "for column in combined:\n",
    "    plt.title(\"График для {}\".format(column))\n",
    "    plt.hist(combined[column])\n",
    "    plt.show()"
   ]
  },
  {
   "cell_type": "code",
   "execution_count": null,
   "metadata": {
    "_uuid": "966639cdb8cbbbaa8ad9afb4db0124b094fc67de"
   },
   "outputs": [],
   "source": [
    "plt.hist(combined.groupby('userId').size())"
   ]
  },
  {
   "cell_type": "code",
   "execution_count": null,
   "metadata": {
    "_uuid": "a86aaaebe9830f2408858707639d49ec9a9a53ad"
   },
   "outputs": [],
   "source": [
    "user_activity = combined.groupby('userId').size().reset_index()"
   ]
  },
  {
   "cell_type": "code",
   "execution_count": null,
   "metadata": {
    "_uuid": "7f474180ad94e9af2142eb9ca9531c015daf7a10"
   },
   "outputs": [],
   "source": [
    "user_activity.rename(index=int, columns={ 0: 'n_count' }, inplace=True)"
   ]
  },
  {
   "cell_type": "code",
   "execution_count": null,
   "metadata": {
    "_uuid": "f3843c5db7cd5241d34964149b9655a14e47589a"
   },
   "outputs": [],
   "source": [
    "user_activity.describe()"
   ]
  },
  {
   "cell_type": "code",
   "execution_count": null,
   "metadata": {
    "_uuid": "40da681a3d85c49009bece1bd19761a4c4393b1d"
   },
   "outputs": [],
   "source": [
    "low_active_users = user_activity[user_activity.n_count < 10]"
   ]
  },
  {
   "cell_type": "code",
   "execution_count": null,
   "metadata": {
    "_uuid": "8a958698239fc248560bb018638f84089087ad48"
   },
   "outputs": [],
   "source": [
    "combined.count()"
   ]
  },
  {
   "cell_type": "code",
   "execution_count": null,
   "metadata": {
    "_uuid": "8406629caa7b37aa6af0ae7ca409f0f2663f84ef"
   },
   "outputs": [],
   "source": [
    "combined.userId[low_active_users.userId.tolist()].count()"
   ]
  },
  {
   "cell_type": "markdown",
   "metadata": {
    "_uuid": "c73d95276ad77ab2c3b0aad002fe122643e3eaef"
   },
   "source": [
    "### Удалим данные с 0-м рейтингом"
   ]
  },
  {
   "cell_type": "code",
   "execution_count": null,
   "metadata": {
    "_uuid": "6223ec12543963ca8e576d08b806ce7b5e6fe666"
   },
   "outputs": [],
   "source": [
    "combined.describe()"
   ]
  },
  {
   "cell_type": "code",
   "execution_count": null,
   "metadata": {
    "_uuid": "0e3f3387b817fc75bf4a49d8c539ff15a935f66e"
   },
   "outputs": [],
   "source": [
    "X = combined[combined.score != 0]"
   ]
  },
  {
   "cell_type": "code",
   "execution_count": null,
   "metadata": {
    "_uuid": "753cf2f3346263b6172de24497aa956441b4e4fa"
   },
   "outputs": [],
   "source": [
    "X.describe()"
   ]
  },
  {
   "cell_type": "code",
   "execution_count": null,
   "metadata": {
    "_uuid": "06de96ae768adc28e5ebf39fd443628702caf958"
   },
   "outputs": [],
   "source": [
    "X[X.score < X.rating].describe()"
   ]
  },
  {
   "cell_type": "code",
   "execution_count": null,
   "metadata": {
    "_uuid": "90f4b73bf780f658f2c364192f8b2bc4b29d60e0"
   },
   "outputs": [],
   "source": [
    "X[X.score > X.rating].describe()"
   ]
  },
  {
   "cell_type": "markdown",
   "metadata": {
    "_uuid": "a42206f6eca969348b7bf4f49ca14c4eb2278a04"
   },
   "source": [
    "### Обучим модель"
   ]
  },
  {
   "cell_type": "code",
   "execution_count": null,
   "metadata": {
    "_uuid": "a367475024a49d6d0586c169a382230a5beedf2a"
   },
   "outputs": [],
   "source": [
    "#from lightgbm import LGBMRanker, LGBMClassifier"
   ]
  },
  {
   "cell_type": "code",
   "execution_count": null,
   "metadata": {
    "_uuid": "03c2d980fb85576eb26bd3f08b48790b82b0812b"
   },
   "outputs": [],
   "source": [
    "#y = X['rating']\n",
    "#x = X.drop(columns = ['rating'])"
   ]
  },
  {
   "cell_type": "code",
   "execution_count": null,
   "metadata": {
    "_uuid": "cba09c2e891434643d2fd25a972efc972900af20"
   },
   "outputs": [],
   "source": [
    "# Нужно разобраться с параметрами. На больших матрицах работает очень медленно\n",
    "# model = LGBMRanker(n_estimators = 2, boosting_type='dart', max_depth=10)\n",
    "#model = LGBMRanker(num_trees=2)\n",
    "#model.fit(x, y.astype(int), group=np.array([x.shape[0]]))"
   ]
  },
  {
   "cell_type": "code",
   "execution_count": null,
   "metadata": {
    "_uuid": "94b1bc109df0a3c03d5ee7eaa6441cb6b4ea2b6d"
   },
   "outputs": [],
   "source": [
    "#X['score']=model.predict(X)"
   ]
  },
  {
   "cell_type": "markdown",
   "metadata": {
    "_uuid": "2dbf54380fb27112bd7bcfcc5286066bdd905d88"
   },
   "source": [
    "### Обработаем полученный рейтинг в SVD"
   ]
  },
  {
   "cell_type": "code",
   "execution_count": null,
   "metadata": {
    "_uuid": "2c783013eb79d16dd9fc7cea24a0db386afb4731"
   },
   "outputs": [],
   "source": [
    "from sklearn.decomposition import TruncatedSVD\n",
    "from collections import Counter\n",
    "from collections import defaultdict\n",
    "from scipy.sparse import csr_matrix\n",
    "import math"
   ]
  },
  {
   "cell_type": "code",
   "execution_count": null,
   "metadata": {
    "_uuid": "508119001ae14c8f009b879092cf871bc6264f93"
   },
   "outputs": [],
   "source": [
    "# Score: 0.02410\n",
    "class TopRecommender(object):\n",
    "    def fit(self, train_data):\n",
    "        counts = Counter(train_data['movieId'])\n",
    "        self.predictions = counts.most_common()\n",
    "        \n",
    "    def predict(self, user_id, n_recommendations=10):\n",
    "        return [movie_id for movie_id, frequency in self.predictions[:n_recommendations]]"
   ]
  },
  {
   "cell_type": "code",
   "execution_count": null,
   "metadata": {
    "_uuid": "b3176188977c37a717c6397232111043dcc5bd64"
   },
   "outputs": [],
   "source": [
    "# Score: 0.04682\n",
    "class SVDRecommender(object):\n",
    "    def fit(self, data, n_components = 30):\n",
    "        self.top_recommender = TopRecommender()\n",
    "        self.top_recommender.fit(data)\n",
    "        \n",
    "        # Создаем словари соответствия\n",
    "        # UserId -> Номер строки в матрице\n",
    "        # MovieId -> Номер колонки в матрице\n",
    "        self.users = defaultdict(lambda: len(self.users))\n",
    "        self.movies = defaultdict(lambda: len(self.movies))\n",
    "\n",
    "        # Создаем матрицу взаимодействий пользователь -> фильм\n",
    "        rows = data.userId.apply(lambda userId: self.users[userId])\n",
    "        cols = data.movieId.apply(lambda movieId: self.movies[movieId])\n",
    "\n",
    "        vals = [1.0]* len(cols)\n",
    "        self.interaction_matrix = csr_matrix((vals, (rows, cols)))\n",
    "\n",
    "        # Обучим модель SVD\n",
    "        self.model = TruncatedSVD(n_components = n_components, algorithm='arpack')\n",
    "        self.model.fit(self.interaction_matrix)\n",
    "\n",
    "        # Обратный словарь колонка -> ID фильма. Понадобится для предсказаний\n",
    "        self.movies_reverse = {}\n",
    "\n",
    "        for movie_id in self.movies:\n",
    "            movie_idx = self.movies[movie_id]\n",
    "            self.movies_reverse[movie_idx] = movie_id\n",
    "\n",
    "    def predict(self, user_id, n_recommendations=10):\n",
    "        if user_id not in self.users:\n",
    "            return self.top_recommender.predict(user_id, n_recommendations=10)\n",
    "        \n",
    "        # Получить прдстваление пользователя с сниженной размерности\n",
    "        user_interactions = self.interaction_matrix.getrow(self.users[user_id])\n",
    "        user_low_dimensions = self.model.transform(user_interactions)\n",
    "        return self.predict_low_dimension(user_low_dimensions, user_interactions, n_recommendations)\n",
    "\n",
    "    def predict_low_dimension(self, user_low_dimensions, user_interactions, man_n=10):\n",
    "        # Получить приближенное предсатвление пользователя\n",
    "        user_predictions = self.model.inverse_transform(user_low_dimensions)[0]\n",
    "        recommendations = []\n",
    "\n",
    "        # Пробегаем по колонкам в порядке убывания предсказанного значения\n",
    "        for movie_idx in reversed(np.argsort(user_predictions)):\n",
    "            # Добавляем фильм к ремомендациям только если пользователь его еще не смотрел\n",
    "            if user_interactions[0, movie_idx] == 0.0:\n",
    "                movie = self.movies_reverse[movie_idx]\n",
    "                score = user_predictions[movie_idx]\n",
    "                #recommendations.append((movie, score))\n",
    "                recommendations.append(movie)\n",
    "\n",
    "            if (len(recommendations) >= man_n):\n",
    "                return recommendations"
   ]
  },
  {
   "cell_type": "code",
   "execution_count": null,
   "metadata": {
    "_uuid": "ffe4b1a6517a27366ab6d7e2837e9f8f7f2fe0e1"
   },
   "outputs": [],
   "source": [
    "# Score: 0.02474\n",
    "# 3% улучшения по сравнению с простым TopRecommender.\n",
    "class TopRecommenderNormalized(object):\n",
    "    def fit(self, train_data, n_quantile = 0.90):\n",
    "        self.predictions = NormalizedRating().fit_transform(train_data, n_quantile = n_quantile).sort_values('score', ascending=False)\n",
    "        \n",
    "    def predict(self, user_id, n_recommendations=10):\n",
    "        return self.predictions['movieId'].unique()[:n_recommendations].tolist()"
   ]
  },
  {
   "cell_type": "code",
   "execution_count": null,
   "metadata": {
    "_uuid": "149fa4391449f41e6aee1330350c16201ff6e78c"
   },
   "outputs": [],
   "source": [
    "# Score depends on model parameters. See bellow\n",
    "class SVDRecommenderWithUserRating(SVDRecommender):\n",
    "    def replace_rating_with_score(self, row):\n",
    "        if row.score > row.rating:\n",
    "            row.rating = row.score\n",
    "        return row\n",
    "\n",
    "    def fit(self, data, model = TruncatedSVD(n_components = 30, algorithm='arpack'), normalized = False, n_quantile = 0.90, rating_power = pow, rating_power_n = 3, rating_shift_n = 0):\n",
    "        self.top_recommender = TopRecommenderNormalized()\n",
    "        self.top_recommender.fit(data, n_quantile = n_quantile)\n",
    "        \n",
    "        if normalized:\n",
    "            normalized_data = NormalizedRating().fit_transform(data, n_quantile = n_quantile)\n",
    "            data = data.merge(normalized_data)\n",
    "            data = data.apply(self.replace_rating_with_score, axis=1).fillna(0)\n",
    "\n",
    "        # Создаем словари соответствия\n",
    "        # UserId -> Номер строки в матрице\n",
    "        # MovieId -> Номер колонки в матрице\n",
    "        self.users = defaultdict(lambda: len(self.users))\n",
    "        self.movies = defaultdict(lambda: len(self.movies))\n",
    "\n",
    "        # Создаем матрицу взаимодействий пользователь -> фильм\n",
    "        rows = data.userId.apply(lambda userId: self.users[userId])\n",
    "        cols = data.movieId.apply(lambda movieId: self.movies[movieId])\n",
    "        \n",
    "        # Заполняем значениями пользовательской оценки\n",
    "        if (rating_power == math.exp):\n",
    "            vals = data.rating.apply(lambda x: rating_power(x + rating_shift_n))\n",
    "        elif (rating_power == pow):\n",
    "            if rating_power_n:\n",
    "                vals = data.rating.apply(lambda x: rating_power(x + rating_shift_n, rating_power_n))\n",
    "            else:\n",
    "                vals = data.rating.apply(lambda x: rating_power(x + rating_shift_n, x))\n",
    "        else:\n",
    "            vals = data.rating.apply(lambda x: rating_power(x + rating_shift_n))\n",
    "        \n",
    "        self.interaction_matrix = csr_matrix((vals, (rows, cols)))\n",
    "    \n",
    "        # Обучим модель SVD\n",
    "        self.model = model\n",
    "        self.model.fit(self.interaction_matrix)\n",
    "\n",
    "        # Обратный словарь колонка -> ID фильма. Понадобится для предсказаний\n",
    "        self.movies_reverse = {}\n",
    "\n",
    "        for movie_id in self.movies:\n",
    "            movie_idx = self.movies[movie_id]\n",
    "            self.movies_reverse[movie_idx] = movie_id"
   ]
  },
  {
   "cell_type": "code",
   "execution_count": null,
   "metadata": {
    "_uuid": "93db246c6bf51a5075b28d178b291f1c826743c7"
   },
   "outputs": [],
   "source": [
    "recommender = SVDRecommenderWithUserRating()"
   ]
  },
  {
   "cell_type": "code",
   "execution_count": null,
   "metadata": {
    "_uuid": "2a650d18723afa281a4be5bc00632df53f789ee1"
   },
   "outputs": [],
   "source": [
    "# Score: 0.05280\n",
    "# params = {\n",
    "#    \"model\": TruncatedSVD(n_components = 50, algorithm='arpack'),\n",
    "#    \"rating_power\": math.exp\n",
    "#}\n",
    "\n",
    "# Score: 0.04439\n",
    "# params = {\n",
    "#    \"model\": TruncatedSVD(n_components = 100, algorithm='arpack'),\n",
    "#    \"rating_power\": math.exp\n",
    "#}\n",
    "\n",
    "# Score: 0.04624\n",
    "# params = {\n",
    "#    \"model\": TruncatedSVD(n_components = 75, algorithm='arpack'),\n",
    "#    \"rating_power\": math.exp\n",
    "#}\n",
    "\n",
    "# Score: 0.05130\n",
    "# params = {\n",
    "#    \"model\": TruncatedSVD(n_components = 55, algorithm='arpack'),\n",
    "#    \"rating_power\": math.exp\n",
    "#}\n",
    "\n",
    "# Score: 0.05291\n",
    "# params = {\n",
    "#     \"model\": TruncatedSVD(n_components = 45, algorithm='arpack'),\n",
    "#     \"rating_power\": math.exp\n",
    "# }\n",
    "\n",
    "# Score: 0.05442\n",
    "# params = {\n",
    "#     \"model\": TruncatedSVD(n_components = 30, algorithm='arpack'),\n",
    "#     \"rating_power\": math.exp\n",
    "# }\n",
    "\n",
    "# Score: 0.05436\n",
    "# params = {\n",
    "#     \"model\": TruncatedSVD(n_components = 24, algorithm='arpack'),\n",
    "#     \"rating_power\": math.exp\n",
    "#}\n",
    "\n",
    "# Score: 0.05311\n",
    "# params = {\n",
    "#    \"model\": TruncatedSVD(n_components = 25, algorithm='arpack'),\n",
    "#    \"rating_power\": math.exp,\n",
    "#    \"normalized\": True,\n",
    "#    \"n_quantile\": 0.85\n",
    "#}\n",
    "\n",
    "# Score: 0.05446\n",
    "# params = {\n",
    "#    \"model\": TruncatedSVD(n_components = 25, algorithm='arpack'),\n",
    "#    \"rating_power\": math.exp\n",
    "#}\n",
    "\n",
    "# Score: 0.05442\n",
    "# params = {\n",
    "#    \"model\": TruncatedSVD(n_components = 26, algorithm='arpack'),\n",
    "#    \"rating_power\": lambda x: math.exp(math.exp(x)),\n",
    "#    \"rating_shift_n\": -4.5\n",
    "#}\n",
    "\n",
    "# Score: 0.05505\n",
    "# params = {\n",
    "#    \"model\": TruncatedSVD(n_components = 26, algorithm='arpack'),\n",
    "#    \"rating_power\": lambda x: math.exp(math.exp(x)),\n",
    "#    \"rating_shift_n\": -4\n",
    "#}\n",
    "\n",
    "# Score: 0.05244\n",
    "# params = {\n",
    "#    \"model\": TruncatedSVD(n_components = 25, algorithm='arpack'),\n",
    "#    \"rating_power\": lambda x: math.pow(math.pow(2, x), x),\n",
    "#    \"rating_shift_n\": -4\n",
    "#}\n",
    "\n",
    "# Score: 0.05282\n",
    "#params = {\n",
    "#    \"model\": TruncatedSVD(n_components = 25, algorithm='arpack'),\n",
    "#    \"rating_power\": lambda x: math.pow(2, x),\n",
    "#    \"rating_shift_n\": -4\n",
    "#}\n",
    "\n",
    "# Score: 0.05282\n",
    "# params = {\n",
    "#    \"model\": TruncatedSVD(n_components = 25, algorithm='arpack'),\n",
    "#    \"rating_power\": lambda x: math.pow(2, x),\n",
    "#    \"rating_shift_n\": 0\n",
    "#}\n",
    "\n",
    "# Score: 0.04705\n",
    "# params = {\n",
    "#    \"model\": TruncatedSVD(n_components = 25, algorithm='arpack'),\n",
    "#    \"rating_power\": lambda x: math.pow(2, math.pow(2, x)),\n",
    "#    \"rating_shift_n\": 0\n",
    "#}\n",
    "\n",
    "# Best score!\n",
    "# Score: 0.05511\n",
    "# params = {\n",
    "#    \"model\": TruncatedSVD(n_components = 25, algorithm='arpack'),\n",
    "#    \"rating_power\": lambda x: math.exp(math.exp(x)),\n",
    "#    \"rating_shift_n\": -4\n",
    "#}\n",
    "\n",
    "# Score: 0.05516\n",
    "# LS: 0.006899\n",
    "params = {\n",
    "    \"model\": TruncatedSVD(n_components = 25, algorithm='arpack'),\n",
    "    \"rating_power\": lambda x: math.exp(math.exp(x if x < 1 else x - 0.1)),\n",
    "    \"rating_shift_n\": -4\n",
    "}"
   ]
  },
  {
   "cell_type": "code",
   "execution_count": null,
   "metadata": {
    "_uuid": "90ef3ef5368013030aeb24b439ff088ba78c16bc"
   },
   "outputs": [],
   "source": [
    "ratings = pd.read_csv('../input/train.csv')"
   ]
  },
  {
   "cell_type": "code",
   "execution_count": null,
   "metadata": {
    "_uuid": "7a6cbc0b15677cc48bf921bc9b2bda2a9f296e0c"
   },
   "outputs": [],
   "source": [
    "recommender.fit(ratings, **params)"
   ]
  },
  {
   "cell_type": "markdown",
   "metadata": {
    "_uuid": "9e64c857b2471b9f5f812fbe274949ce5e372db3"
   },
   "source": [
    "### Загрузим тестовые файлы"
   ]
  },
  {
   "cell_type": "code",
   "execution_count": null,
   "metadata": {
    "_uuid": "ac15bab9ae5d9ccbdd2e043d8f05d364c1054f82"
   },
   "outputs": [],
   "source": [
    "with open('../input/test_user_id.list', 'r') as file:\n",
    "    test_user_id = file.read()\n",
    "test_user_id = test_user_id.split(',')"
   ]
  },
  {
   "cell_type": "markdown",
   "metadata": {
    "_uuid": "056a78dc517b0b3d99dcbcec889d58b365de84b6"
   },
   "source": [
    "### Предсказания для существующего пользователя"
   ]
  },
  {
   "cell_type": "code",
   "execution_count": null,
   "metadata": {
    "_uuid": "ad1ce8fad9021670dbba0eda71759074c155d357"
   },
   "outputs": [],
   "source": [
    "recommender.predict(user_id=138208, n_recommendations=10)"
   ]
  },
  {
   "cell_type": "markdown",
   "metadata": {
    "_uuid": "7e5b7882c6981826044ddd278f3e6019df1b0621"
   },
   "source": [
    "#### Пользователь со NDCG@10 = 1.0 "
   ]
  },
  {
   "cell_type": "code",
   "execution_count": null,
   "metadata": {
    "_uuid": "16dd05de27aa34f566c0bef08606b9e8e7ea1302"
   },
   "outputs": [],
   "source": [
    "recommender.predict(user_id=49443, n_recommendations=10)"
   ]
  },
  {
   "cell_type": "markdown",
   "metadata": {
    "_uuid": "a7a975cc6e147ea2c8832400b96a377d09bd0f91"
   },
   "source": [
    "### Предсказания для отсутствующего пользователя"
   ]
  },
  {
   "cell_type": "code",
   "execution_count": null,
   "metadata": {
    "_uuid": "b9dbab7007cbaa2678d4b5e27731276395decb08"
   },
   "outputs": [],
   "source": [
    "recommender.predict(user_id=9999999, n_recommendations=10)"
   ]
  },
  {
   "cell_type": "markdown",
   "metadata": {
    "_uuid": "d36c2e25b63fa0b92a98f0d87ca92bcdbab6f9a3"
   },
   "source": [
    "### Запишем предсказания"
   ]
  },
  {
   "cell_type": "code",
   "execution_count": null,
   "metadata": {
    "_uuid": "734b0cc5a2d2d930b26c07c4eb009668a24429a6"
   },
   "outputs": [],
   "source": [
    "with open('submit.csv', 'w') as f:\n",
    "    f.write('userId,movieId\\n')\n",
    "    for user_id in test_user_id:\n",
    "        recommendations = recommender.predict(user_id=int(user_id), n_recommendations=10)\n",
    "        for rec in recommendations:\n",
    "            f.write(str(user_id) + ',' + str(int(rec)) + '\\n')"
   ]
  },
  {
   "cell_type": "markdown",
   "metadata": {
    "_uuid": "97614f7401ed7ef37f242d7f550e5f3cbe331869"
   },
   "source": [
    "### Проверим результаты"
   ]
  },
  {
   "cell_type": "code",
   "execution_count": null,
   "metadata": {
    "_uuid": "4d9c4b31e514749bdccac6078930ce65645fce0f"
   },
   "outputs": [],
   "source": [
    "train = ratings[:int(ratings.shape[0] * 0.75)]\n",
    "validation = ratings[int(ratings.shape[0] * 0.75):]"
   ]
  },
  {
   "cell_type": "code",
   "execution_count": null,
   "metadata": {
    "_uuid": "d4928125b5caaf3be59e0fe75f9515ca3c3fc1f8"
   },
   "outputs": [],
   "source": [
    "recommender = SVDRecommenderWithUserRating()\n",
    "recommender.fit(train, **params)"
   ]
  },
  {
   "cell_type": "code",
   "execution_count": null,
   "metadata": {
    "_uuid": "e555404762f0923fdb95a8e5c36587d5dad0095b"
   },
   "outputs": [],
   "source": [
    "def dcg_at_k(r, k, method=0):\n",
    "    \"\"\"\n",
    "    Args:\n",
    "        r: Relevance scores (list or numpy) in rank order\n",
    "            (first element is the first item)\n",
    "        k: Number of results to consider\n",
    "        method: If 0 then weights are [1.0, 1.0, 0.6309, 0.5, 0.4307, ...]\n",
    "                If 1 then weights are [1.0, 0.6309, 0.5, 0.4307, ...]\n",
    "    Returns:\n",
    "        Discounted cumulative gain\n",
    "    \"\"\"\n",
    "    r = np.asfarray(r)[:k]\n",
    "    if r.size:\n",
    "        if method == 0:\n",
    "            return r[0] + np.sum(r[1:] / np.log2(np.arange(2, r.size + 1)))\n",
    "        elif method == 1:\n",
    "            return np.sum(r / np.log2(np.arange(2, r.size + 2)))\n",
    "        else:\n",
    "            raise ValueError('method must be 0 or 1.')\n",
    "    return 0.\n",
    "\n",
    "def ndcg_at_k(r, k, method=0):\n",
    "    \"\"\"\n",
    "    Args:\n",
    "        r: Relevance scores (list or numpy) in rank order\n",
    "            (first element is the first item)\n",
    "        k: Number of results to consider\n",
    "        method: If 0 then weights are [1.0, 1.0, 0.6309, 0.5, 0.4307, ...]\n",
    "                If 1 then weights are [1.0, 0.6309, 0.5, 0.4307, ...]\n",
    "    Returns:\n",
    "        Normalized discounted cumulative gain\n",
    "    \"\"\"\n",
    "    dcg_max = dcg_at_k(sorted(r, reverse=True), k, method)\n",
    "    if not dcg_max:\n",
    "        return 0.\n",
    "    return dcg_at_k(r, k, method) / dcg_max"
   ]
  },
  {
   "cell_type": "code",
   "execution_count": null,
   "metadata": {
    "_uuid": "546b1924c84e50796865b549d6b0e9a4425bec56",
    "scrolled": false
   },
   "outputs": [],
   "source": [
    "verbose = True\n",
    "num_to_print = 10\n",
    "total_ndcg = 0\n",
    "\n",
    "for user_id, group in validation.groupby('userId'):\n",
    "    ground_truth_films = [int(data.movieId) for row, data in group.iterrows()]\n",
    "    recommendations = recommender.predict(user_id, n_recommendations=20)\n",
    "    \n",
    "    relevance_scores = []\n",
    "    for rec in recommendations:\n",
    "        if rec in ground_truth_films:\n",
    "            relevance_scores.append(len(ground_truth_films) - ground_truth_films.index(rec))\n",
    "        else:\n",
    "            relevance_scores.append(0)\n",
    "    total_ndcg += ndcg_at_k(relevance_scores, k=10)\n",
    "    \n",
    "    if verbose and np.random.random() > 0.999:\n",
    "        user_films_train = train[train.userId == user_id].movieId.values\n",
    "        print('Идентификатор пользователя: ', user_id)\n",
    "        print(\n",
    "            'Фильмы в обучающей выборке для этого пользователя:',\n",
    "            [movies[movies.movieId == movie_id].title.values[0] for movie_id in user_films_train[:num_to_print]],\n",
    "            '\\n'\n",
    "        )\n",
    "        print(\n",
    "            'Просмотренные на самом деле фильмы: ', \n",
    "            [movies[movies.movieId == movie_id].title.values[0] for movie_id in ground_truth_films[:num_to_print]],\n",
    "            '\\n'\n",
    "        )\n",
    "        \n",
    "        print(\n",
    "            'Рекомендации топ-рекомендера: ', \n",
    "            [movies[movies.movieId == rec_id].title.values[0] for rec_id in recommendations],\n",
    "            '\\n'\n",
    "        )\n",
    "        print('Значение NDCG@10 = ', ndcg_at_k(relevance_scores, k=10), '\\n\\n')"
   ]
  },
  {
   "cell_type": "code",
   "execution_count": null,
   "metadata": {
    "_uuid": "a795b13180628eac7ce8b92bfbfb46558d11f984"
   },
   "outputs": [],
   "source": [
    "total_ndcg / validation.shape[0]"
   ]
  },
  {
   "cell_type": "code",
   "execution_count": null,
   "metadata": {
    "_uuid": "c13c512b7647e47b678285dfa3db36dd775134ae"
   },
   "outputs": [],
   "source": []
  }
 ],
 "metadata": {
  "kernelspec": {
   "display_name": "Python 3",
   "language": "python",
   "name": "python3"
  },
  "language_info": {
   "codemirror_mode": {
    "name": "ipython",
    "version": 3
   },
   "file_extension": ".py",
   "mimetype": "text/x-python",
   "name": "python",
   "nbconvert_exporter": "python",
   "pygments_lexer": "ipython3",
   "version": "3.6.5"
  }
 },
 "nbformat": 4,
 "nbformat_minor": 1
}
